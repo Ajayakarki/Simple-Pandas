{
 "cells": [
  {
   "cell_type": "markdown",
   "id": "cecba877",
   "metadata": {},
   "source": [
    "## Numpy"
   ]
  },
  {
   "cell_type": "markdown",
   "id": "838c0e12",
   "metadata": {},
   "source": [
    "## Simple 1 d numy array"
   ]
  },
  {
   "cell_type": "code",
   "execution_count": 1,
   "id": "c73c3615",
   "metadata": {},
   "outputs": [],
   "source": [
    "import numpy as np"
   ]
  },
  {
   "cell_type": "code",
   "execution_count": 2,
   "id": "df93b4a0",
   "metadata": {},
   "outputs": [
    {
     "data": {
      "text/plain": [
       "array([1, 2, 3, 4, 5])"
      ]
     },
     "execution_count": 2,
     "metadata": {},
     "output_type": "execute_result"
    }
   ],
   "source": [
    "a = [1,2,3,4,5]\n",
    "my_arr = np.array(a)\n",
    "my_arr\n",
    "\n",
    "## or====> np.array([1,2,3,4,5])"
   ]
  },
  {
   "cell_type": "markdown",
   "id": "ac8354b8",
   "metadata": {},
   "source": [
    "### Making numpy array from user input "
   ]
  },
  {
   "cell_type": "code",
   "execution_count": 3,
   "id": "f6e41154",
   "metadata": {},
   "outputs": [
    {
     "name": "stdout",
     "output_type": "stream",
     "text": [
      "Enter a Size: 3\n",
      "Enter a number: 1\n",
      "Enter a number: 2\n",
      "Enter a number: 3\n"
     ]
    },
    {
     "data": {
      "text/plain": [
       "array([1, 2, 3])"
      ]
     },
     "execution_count": 3,
     "metadata": {},
     "output_type": "execute_result"
    }
   ],
   "source": [
    "a = []\n",
    "total_size = int(input('Enter a Size: '))\n",
    "for i in range(total_size):\n",
    "    number = int(input('Enter a number: '))\n",
    "    a.append(number)\n",
    "\n",
    "my_array = np.array(a)\n",
    "my_array"
   ]
  },
  {
   "cell_type": "markdown",
   "id": "46353522",
   "metadata": {},
   "source": [
    "### 2d array "
   ]
  },
  {
   "cell_type": "code",
   "execution_count": 4,
   "id": "159ac9a8",
   "metadata": {},
   "outputs": [
    {
     "data": {
      "text/plain": [
       "array([[1, 2, 3],\n",
       "       [3, 4, 5],\n",
       "       [6, 7, 8]])"
      ]
     },
     "execution_count": 4,
     "metadata": {},
     "output_type": "execute_result"
    }
   ],
   "source": [
    "two_dim = [[1,2,3], [3,4,5], [6,7,8]]\n",
    "array = np.array(two_dim)\n",
    "array"
   ]
  },
  {
   "cell_type": "code",
   "execution_count": 7,
   "id": "62dc3313",
   "metadata": {},
   "outputs": [
    {
     "name": "stdout",
     "output_type": "stream",
     "text": [
      "Dimension of array is:  2\n",
      "Size of array is:  (3, 3)\n"
     ]
    }
   ],
   "source": [
    "print('Dimension of array is: ', array.ndim)\n",
    "print('Size of array is: ', array.shape)"
   ]
  },
  {
   "cell_type": "markdown",
   "id": "67c2c3da",
   "metadata": {},
   "source": [
    "### Some Numpy Functions "
   ]
  },
  {
   "cell_type": "markdown",
   "id": "4c04a7b5",
   "metadata": {},
   "source": [
    "### Zeros, ones"
   ]
  },
  {
   "cell_type": "code",
   "execution_count": 9,
   "id": "5324d650",
   "metadata": {},
   "outputs": [
    {
     "data": {
      "text/plain": [
       "array([0., 0., 0.])"
      ]
     },
     "execution_count": 9,
     "metadata": {},
     "output_type": "execute_result"
    }
   ],
   "source": [
    "my_array = np.zeros(3)\n",
    "my_array"
   ]
  },
  {
   "cell_type": "code",
   "execution_count": 11,
   "id": "b2177e18",
   "metadata": {},
   "outputs": [
    {
     "data": {
      "text/plain": [
       "array([[0., 0., 0.],\n",
       "       [0., 0., 0.],\n",
       "       [0., 0., 0.]])"
      ]
     },
     "execution_count": 11,
     "metadata": {},
     "output_type": "execute_result"
    }
   ],
   "source": [
    "my_array = np.zeros((3,3))\n",
    "my_array"
   ]
  },
  {
   "cell_type": "code",
   "execution_count": 13,
   "id": "c35e8e8a",
   "metadata": {},
   "outputs": [
    {
     "data": {
      "text/plain": [
       "array([[1., 1., 1.],\n",
       "       [1., 1., 1.]])"
      ]
     },
     "execution_count": 13,
     "metadata": {},
     "output_type": "execute_result"
    }
   ],
   "source": [
    "my_1array = np.ones((2,3))\n",
    "my_1array"
   ]
  },
  {
   "cell_type": "markdown",
   "id": "b81d3ad0",
   "metadata": {},
   "source": [
    "## eye \n",
    "This function creates an array with all diagonal elements as 1 and rest as 0"
   ]
  },
  {
   "cell_type": "code",
   "execution_count": 15,
   "id": "6d177847",
   "metadata": {},
   "outputs": [
    {
     "data": {
      "text/plain": [
       "array([[1., 0., 0.],\n",
       "       [0., 1., 0.],\n",
       "       [0., 0., 1.]])"
      ]
     },
     "execution_count": 15,
     "metadata": {},
     "output_type": "execute_result"
    }
   ],
   "source": [
    "eye_function = np.eye(3)\n",
    "eye_function"
   ]
  },
  {
   "cell_type": "code",
   "execution_count": 17,
   "id": "06073881",
   "metadata": {},
   "outputs": [
    {
     "data": {
      "text/plain": [
       "array([[1., 0., 0.],\n",
       "       [0., 1., 0.],\n",
       "       [0., 0., 1.]])"
      ]
     },
     "execution_count": 17,
     "metadata": {},
     "output_type": "execute_result"
    }
   ],
   "source": [
    "eye_function2 = np.eye(3,3)\n",
    "eye_function2"
   ]
  },
  {
   "cell_type": "markdown",
   "id": "e116f80e",
   "metadata": {},
   "source": [
    "### diag \n",
    "This function creates the two dimensional array  with all the diagonal elements as the given value"
   ]
  },
  {
   "cell_type": "code",
   "execution_count": 18,
   "id": "b665dd61",
   "metadata": {},
   "outputs": [
    {
     "data": {
      "text/plain": [
       "array([[1, 0, 0],\n",
       "       [0, 2, 0],\n",
       "       [0, 0, 4]])"
      ]
     },
     "execution_count": 18,
     "metadata": {},
     "output_type": "execute_result"
    }
   ],
   "source": [
    "diag_function = np.diag([1,2,4])\n",
    "diag_function"
   ]
  },
  {
   "cell_type": "markdown",
   "id": "fa0d51fa",
   "metadata": {},
   "source": [
    "### randint\n",
    "This function is used to generate the numbers between the given range <br>\n",
    "Syntax rand(min, max, total_values)"
   ]
  },
  {
   "cell_type": "code",
   "execution_count": 20,
   "id": "238cf60a",
   "metadata": {},
   "outputs": [
    {
     "data": {
      "text/plain": [
       "array([4, 1, 2])"
      ]
     },
     "execution_count": 20,
     "metadata": {},
     "output_type": "execute_result"
    }
   ],
   "source": [
    "arr = np.random.randint(1,7,3)\n",
    "arr\n",
    "## output from 1 to 6 (exclude 7)"
   ]
  },
  {
   "cell_type": "markdown",
   "id": "1d2dd222",
   "metadata": {},
   "source": [
    "### rand\n",
    "This function is used to generate the random numbers between 0 and 1"
   ]
  },
  {
   "cell_type": "code",
   "execution_count": 22,
   "id": "358b0f3e",
   "metadata": {},
   "outputs": [
    {
     "data": {
      "text/plain": [
       "array([0.64892903, 0.63180763, 0.90319085])"
      ]
     },
     "execution_count": 22,
     "metadata": {},
     "output_type": "execute_result"
    }
   ],
   "source": [
    "rand_arr = np.random.rand(3)\n",
    "rand_arr"
   ]
  },
  {
   "cell_type": "code",
   "execution_count": 24,
   "id": "ac522866",
   "metadata": {},
   "outputs": [
    {
     "data": {
      "text/plain": [
       "array([[0.0489554 , 0.45758361, 0.25876666],\n",
       "       [0.61709245, 0.49929354, 0.40689713]])"
      ]
     },
     "execution_count": 24,
     "metadata": {},
     "output_type": "execute_result"
    }
   ],
   "source": [
    "## In 2d array as well\n",
    "rand_2d_arr = np.random.rand(2,3)\n",
    "rand_2d_arr"
   ]
  },
  {
   "cell_type": "markdown",
   "id": "14c6dcd3",
   "metadata": {},
   "source": [
    "### randn  \n",
    "This function is used to generate random values close to 0 include - values"
   ]
  },
  {
   "cell_type": "code",
   "execution_count": 32,
   "id": "d2c3d3a0",
   "metadata": {},
   "outputs": [
    {
     "data": {
      "text/plain": [
       "array([-0.48226483,  0.50387836, -0.10567616,  0.76228805,  2.38722884,\n",
       "       -0.53708666])"
      ]
     },
     "execution_count": 32,
     "metadata": {},
     "output_type": "execute_result"
    }
   ],
   "source": [
    "ran_array = np.random.randn(6)\n",
    "ran_array"
   ]
  },
  {
   "cell_type": "code",
   "execution_count": 33,
   "id": "b9733410",
   "metadata": {},
   "outputs": [
    {
     "data": {
      "text/plain": [
       "6"
      ]
     },
     "execution_count": 33,
     "metadata": {},
     "output_type": "execute_result"
    }
   ],
   "source": [
    "ran_array.size"
   ]
  },
  {
   "cell_type": "code",
   "execution_count": 35,
   "id": "16327b5e",
   "metadata": {},
   "outputs": [
    {
     "name": "stdout",
     "output_type": "stream",
     "text": [
      "-0.4822648293582355\n",
      "0.5038783598458138\n",
      "-0.10567616260548367\n",
      "0.7622880474569715\n",
      "2.3872288439266134\n",
      "-0.5370866620127085\n"
     ]
    }
   ],
   "source": [
    "for i in range(ran_array.size):\n",
    "    print(ran_array[i])"
   ]
  },
  {
   "cell_type": "markdown",
   "id": "9a4470f9",
   "metadata": {},
   "source": [
    "### Slicing and indexing in Numpy "
   ]
  },
  {
   "cell_type": "code",
   "execution_count": 39,
   "id": "908fda77",
   "metadata": {},
   "outputs": [
    {
     "name": "stdout",
     "output_type": "stream",
     "text": [
      "Enter total size: 5\n",
      "Enter a number: 7\n",
      "Enter a number: 2\n",
      "Enter a number: 1\n",
      "Enter a number: 6\n",
      "Enter a number: 8\n",
      "Converted into numpyarr [7 2 1 6 8]\n",
      "7\n",
      "2\n",
      "1\n",
      "6\n",
      "8\n",
      "24\n",
      "********************\n",
      "index result =  [1 6]\n"
     ]
    }
   ],
   "source": [
    "empty_list = []\n",
    "total_size = int(input('Enter total size: '))\n",
    "\n",
    "for i in range(total_size):\n",
    "    number = int(input('Enter a number: '))\n",
    "    empty_list.append(number)\n",
    "    \n",
    "numpy_arr = np.array(empty_list)\n",
    "print('Converted into numpyarr', numpy_arr)\n",
    "\n",
    "## Indexing the numpy array\n",
    "for i in range(numpy_arr.size):\n",
    "    print(numpy_arr[i])\n",
    "    \n",
    "## sum values through indexing\n",
    "summ = 0\n",
    "size = numpy_arr.size\n",
    "for i in range(size):\n",
    "    summ += numpy_arr[i]\n",
    "print(summ)\n",
    "\n",
    "print('*' * 20)\n",
    "\n",
    "## Indexing\n",
    "\n",
    "indexing_of_arr = numpy_arr[2:4]\n",
    "print('index result = ', indexing_of_arr)"
   ]
  },
  {
   "cell_type": "markdown",
   "id": "c88238aa",
   "metadata": {},
   "source": [
    "### Reshaping numpy array \n",
    "From 1d to 2d or vice versa"
   ]
  },
  {
   "cell_type": "code",
   "execution_count": 40,
   "id": "06a036af",
   "metadata": {},
   "outputs": [
    {
     "data": {
      "text/plain": [
       "array([82, 16, 48, 21, 94, 97, 33, 18, 59, 83, 52, 22])"
      ]
     },
     "execution_count": 40,
     "metadata": {},
     "output_type": "execute_result"
    }
   ],
   "source": [
    "## Creating 1d array\n",
    "arr = np.random.randint(1,100,12)\n",
    "arr"
   ]
  },
  {
   "cell_type": "code",
   "execution_count": 41,
   "id": "1dad1061",
   "metadata": {},
   "outputs": [
    {
     "data": {
      "text/plain": [
       "array([[82, 16, 48],\n",
       "       [21, 94, 97],\n",
       "       [33, 18, 59],\n",
       "       [83, 52, 22]])"
      ]
     },
     "execution_count": 41,
     "metadata": {},
     "output_type": "execute_result"
    }
   ],
   "source": [
    "## converting above 1d array to 2d\n",
    "array_2d = arr.reshape(4,3)  ### means 4 rows and 3 columns (4*3 = 12) otherwise it will give error\n",
    "array_2d"
   ]
  },
  {
   "cell_type": "code",
   "execution_count": 44,
   "id": "51bfde82",
   "metadata": {},
   "outputs": [
    {
     "data": {
      "text/plain": [
       "array([82, 16, 48, 21, 94, 97, 33, 18, 59, 83, 52, 22])"
      ]
     },
     "execution_count": 44,
     "metadata": {},
     "output_type": "execute_result"
    }
   ],
   "source": [
    "## again converting 2d array to 1d\n",
    "arr_1d = arr.reshape(12)\n",
    "arr_1d"
   ]
  },
  {
   "cell_type": "code",
   "execution_count": 62,
   "id": "9ded3fa2",
   "metadata": {},
   "outputs": [
    {
     "name": "stdout",
     "output_type": "stream",
     "text": [
      "Before reshaping Dimension is:  2\n",
      "Before reshaping Size is:  12\n",
      "Before reshaping shape is:  (4, 3)\n",
      "*************************\n",
      "After reshaping Dimension is:  1\n",
      "After reshaping Size is:  12\n",
      "After reshaping Shape is:  (12,)\n"
     ]
    }
   ],
   "source": [
    "print('Before reshaping Dimension is: ', array_2d.ndim)\n",
    "print('Before reshaping Size is: ', array_2d.size)\n",
    "print('Before reshaping shape is: ', array_2d.shape)\n",
    "\n",
    "print('*' * 25)\n",
    "print('After reshaping Dimension is: ', arr_1d.ndim)\n",
    "print('After reshaping Size is: ', arr_1d.size)\n",
    "print('After reshaping Shape is: ', arr_1d.shape)\n",
    "\n"
   ]
  },
  {
   "cell_type": "markdown",
   "id": "39beaf5b",
   "metadata": {},
   "source": [
    "### -1 concept "
   ]
  },
  {
   "cell_type": "code",
   "execution_count": 63,
   "id": "d0c84dc5",
   "metadata": {},
   "outputs": [
    {
     "data": {
      "text/plain": [
       "array([62, 99,  8, 65, 91, 25, 65,  8, 54, 91,  8, 43, 21, 71, 48, 90,  3,\n",
       "       70,  7, 80])"
      ]
     },
     "execution_count": 63,
     "metadata": {},
     "output_type": "execute_result"
    }
   ],
   "source": [
    "arr = np.random.randint(1,100, 20)\n",
    "arr"
   ]
  },
  {
   "cell_type": "code",
   "execution_count": 64,
   "id": "48eb96e6",
   "metadata": {},
   "outputs": [
    {
     "data": {
      "text/plain": [
       "array([[62, 99,  8, 65],\n",
       "       [91, 25, 65,  8],\n",
       "       [54, 91,  8, 43],\n",
       "       [21, 71, 48, 90],\n",
       "       [ 3, 70,  7, 80]])"
      ]
     },
     "execution_count": 64,
     "metadata": {},
     "output_type": "execute_result"
    }
   ],
   "source": [
    "reshape_arr_to_2d =arr.reshape(5, -1)\n",
    "reshape_arr_to_2d\n",
    "### Here we define row size i.e. 5 but we don't define column size and we write (-1) so the system automatically calculate row\n",
    "## 5 * _ = 20   ====> 4 so total column 4"
   ]
  },
  {
   "cell_type": "code",
   "execution_count": 66,
   "id": "c7e79e6d",
   "metadata": {},
   "outputs": [
    {
     "data": {
      "text/plain": [
       "array([[62, 99,  8, 65, 91, 25, 65,  8, 54, 91],\n",
       "       [ 8, 43, 21, 71, 48, 90,  3, 70,  7, 80]])"
      ]
     },
     "execution_count": 66,
     "metadata": {},
     "output_type": "execute_result"
    }
   ],
   "source": [
    "reshape_arr_to_2d_another = arr.reshape(-1, 10)\n",
    "reshape_arr_to_2d_another\n",
    "## Here we don't define row but define column and it automatically generated total rows (_ * 10 = 20) i.e (2 * 10 = 20)"
   ]
  },
  {
   "cell_type": "markdown",
   "id": "26579460",
   "metadata": {},
   "source": [
    "### seed function \n",
    "Basically when we use random.randint every time we execute different values is generated but if we use seed function\n",
    "same number is generated"
   ]
  },
  {
   "cell_type": "code",
   "execution_count": 70,
   "id": "24d97146",
   "metadata": {},
   "outputs": [
    {
     "data": {
      "text/plain": [
       "array([76, 28,  7,  3,  4, 68, 77, 49, 23, 50])"
      ]
     },
     "execution_count": 70,
     "metadata": {},
     "output_type": "execute_result"
    }
   ],
   "source": [
    "np.random.seed(12)# Can give any number and if we give another number 10 will generated another set of number but everytime same\n",
    "np.random.randint(1,100,10)"
   ]
  },
  {
   "cell_type": "markdown",
   "id": "df3d7a03",
   "metadata": {},
   "source": [
    "### Creating 2 dimensional array user input "
   ]
  },
  {
   "cell_type": "code",
   "execution_count": 72,
   "id": "15ee9444",
   "metadata": {},
   "outputs": [
    {
     "name": "stdout",
     "output_type": "stream",
     "text": [
      "Enter total number of rows: 3\n",
      "Enter total number of columns: 3\n",
      "Enter a number: 1\n",
      "Enter a number: 2\n",
      "Enter a number: 3\n",
      "Enter a number: 4\n",
      "Enter a number: 5\n",
      "Enter a number: 6\n",
      "Enter a number: 7\n",
      "Enter a number: 8\n",
      "Enter a number: 9\n",
      "numpy array:  [[1 2 3]\n",
      " [4 5 6]\n",
      " [7 8 9]]\n",
      "1 2 3 \n",
      "4 5 6 \n",
      "7 8 9 \n"
     ]
    }
   ],
   "source": [
    "rows = int(input('Enter total number of rows: '))\n",
    "columns = int(input('Enter total number of columns: '))\n",
    "matrix = []\n",
    "\n",
    "for i in range(rows):\n",
    "    a = []\n",
    "    for j in range(columns):\n",
    "        val = int(input('Enter a number: '))\n",
    "        a.append(val)\n",
    "    matrix.append(a)\n",
    "    \n",
    "arr = np.array(matrix)\n",
    "print('numpy array: ', arr)\n",
    "\n",
    "\n",
    "for i in range(rows):\n",
    "    for j in range(columns):\n",
    "        print(arr[i][j], end=\" \")\n",
    "    print()\n",
    "        \n",
    "        "
   ]
  },
  {
   "cell_type": "markdown",
   "id": "b8b6c73e",
   "metadata": {},
   "source": [
    "### Slicing 2d array example "
   ]
  },
  {
   "cell_type": "code",
   "execution_count": 74,
   "id": "cc936785",
   "metadata": {},
   "outputs": [
    {
     "data": {
      "text/plain": [
       "array([[53,  6, 14, 90],\n",
       "       [35, 76, 75,  1],\n",
       "       [77, 14, 83, 90],\n",
       "       [36, 63, 36, 34],\n",
       "       [31, 64, 97, 19]])"
      ]
     },
     "execution_count": 74,
     "metadata": {},
     "output_type": "execute_result"
    }
   ],
   "source": [
    "arr = np.random.randint(1,100,20).reshape(5,4)\n",
    "arr"
   ]
  },
  {
   "cell_type": "code",
   "execution_count": 75,
   "id": "8e1d55a8",
   "metadata": {},
   "outputs": [
    {
     "data": {
      "text/plain": [
       "array([[75,  1],\n",
       "       [83, 90]])"
      ]
     },
     "execution_count": 75,
     "metadata": {},
     "output_type": "execute_result"
    }
   ],
   "source": [
    "## Slicing arr =====> arr[row_range,column_range]\n",
    "arr[1:3,2:]"
   ]
  },
  {
   "cell_type": "code",
   "execution_count": 76,
   "id": "f228d56c",
   "metadata": {},
   "outputs": [
    {
     "data": {
      "text/plain": [
       "array([90, 34, 19])"
      ]
     },
     "execution_count": 76,
     "metadata": {},
     "output_type": "execute_result"
    }
   ],
   "source": [
    "arr[2:,-1]"
   ]
  },
  {
   "cell_type": "code",
   "execution_count": 77,
   "id": "0bd0a945",
   "metadata": {},
   "outputs": [
    {
     "data": {
      "text/plain": [
       "array([[83, 90],\n",
       "       [36, 34]])"
      ]
     },
     "execution_count": 77,
     "metadata": {},
     "output_type": "execute_result"
    }
   ],
   "source": [
    "arr[2:4,2:4]"
   ]
  },
  {
   "cell_type": "markdown",
   "id": "c3f6c808",
   "metadata": {},
   "source": [
    "### Condition Selection in Numpy "
   ]
  },
  {
   "cell_type": "code",
   "execution_count": 91,
   "id": "ae673b75",
   "metadata": {},
   "outputs": [
    {
     "data": {
      "text/plain": [
       "array([ 1,  2,  3,  4,  5,  6,  7,  8,  9, 10, 11, 12, 13, 14, 15])"
      ]
     },
     "execution_count": 91,
     "metadata": {},
     "output_type": "execute_result"
    }
   ],
   "source": [
    "arr = np.arange(1,16)\n",
    "arr"
   ]
  },
  {
   "cell_type": "code",
   "execution_count": 92,
   "id": "db0421b9",
   "metadata": {},
   "outputs": [
    {
     "data": {
      "text/plain": [
       "array([False, False, False, False, False, False, False, False, False,\n",
       "       False,  True,  True,  True,  True,  True])"
      ]
     },
     "execution_count": 92,
     "metadata": {},
     "output_type": "execute_result"
    }
   ],
   "source": [
    "a = arr > 10\n",
    "a"
   ]
  },
  {
   "cell_type": "code",
   "execution_count": 93,
   "id": "7d6d27ab",
   "metadata": {},
   "outputs": [
    {
     "data": {
      "text/plain": [
       "array([ 2,  4,  6,  8, 10, 12, 14])"
      ]
     },
     "execution_count": 93,
     "metadata": {},
     "output_type": "execute_result"
    }
   ],
   "source": [
    "### print even numbers\n",
    "b = arr[arr%2 == 0]\n",
    "b"
   ]
  },
  {
   "cell_type": "code",
   "execution_count": 94,
   "id": "0529a36a",
   "metadata": {},
   "outputs": [
    {
     "data": {
      "text/plain": [
       "array([1, 2, 3, 4])"
      ]
     },
     "execution_count": 94,
     "metadata": {},
     "output_type": "execute_result"
    }
   ],
   "source": [
    "c = arr[arr<5]\n",
    "c"
   ]
  },
  {
   "cell_type": "code",
   "execution_count": 96,
   "id": "2e6d8a64",
   "metadata": {},
   "outputs": [],
   "source": [
    "d = arr[arr>10]=0"
   ]
  },
  {
   "cell_type": "code",
   "execution_count": 98,
   "id": "40785685",
   "metadata": {},
   "outputs": [
    {
     "data": {
      "text/plain": [
       "array([ 1,  2,  3,  4,  5,  6,  7,  8,  9, 10,  0,  0,  0,  0,  0])"
      ]
     },
     "execution_count": 98,
     "metadata": {},
     "output_type": "execute_result"
    }
   ],
   "source": [
    "arr"
   ]
  },
  {
   "cell_type": "markdown",
   "id": "282d165b",
   "metadata": {},
   "source": [
    "### various other operations in Numpy\n"
   ]
  },
  {
   "cell_type": "code",
   "execution_count": 110,
   "id": "79871c0f",
   "metadata": {},
   "outputs": [],
   "source": [
    "arr1 = np.arange(1,5)\n",
    "arr2 = np.arange(5,9)"
   ]
  },
  {
   "cell_type": "code",
   "execution_count": 111,
   "id": "df5df365",
   "metadata": {},
   "outputs": [
    {
     "data": {
      "text/plain": [
       "array([1, 2, 3, 4])"
      ]
     },
     "execution_count": 111,
     "metadata": {},
     "output_type": "execute_result"
    }
   ],
   "source": [
    "arr1"
   ]
  },
  {
   "cell_type": "code",
   "execution_count": 112,
   "id": "b11c7f91",
   "metadata": {},
   "outputs": [
    {
     "data": {
      "text/plain": [
       "array([5, 6, 7, 8])"
      ]
     },
     "execution_count": 112,
     "metadata": {},
     "output_type": "execute_result"
    }
   ],
   "source": [
    "arr2"
   ]
  },
  {
   "cell_type": "code",
   "execution_count": 113,
   "id": "4551e0c9",
   "metadata": {},
   "outputs": [
    {
     "name": "stdout",
     "output_type": "stream",
     "text": [
      "[ 6  8 10 12]\n",
      "[2 4 6 8]\n",
      "[ 1  4  9 16]\n",
      "[    1    64  2187 65536]\n"
     ]
    }
   ],
   "source": [
    "print(arr1 + arr2)\n",
    "print(arr1*2)\n",
    "print(arr1**2)\n",
    "print(arr1**arr2)"
   ]
  },
  {
   "cell_type": "markdown",
   "id": "65bf1bca",
   "metadata": {},
   "source": [
    "#### For 2 dim "
   ]
  },
  {
   "cell_type": "code",
   "execution_count": 128,
   "id": "6419f9df",
   "metadata": {},
   "outputs": [],
   "source": [
    "arr1 = np.array([1,2,3,4]).reshape(2,2)\n",
    "arr2 = np.array([4,5,6,7]).reshape(2,2)"
   ]
  },
  {
   "cell_type": "code",
   "execution_count": 129,
   "id": "0ea28037",
   "metadata": {},
   "outputs": [
    {
     "data": {
      "text/plain": [
       "array([[1, 2],\n",
       "       [3, 4]])"
      ]
     },
     "execution_count": 129,
     "metadata": {},
     "output_type": "execute_result"
    }
   ],
   "source": [
    "arr1"
   ]
  },
  {
   "cell_type": "code",
   "execution_count": 130,
   "id": "5605607c",
   "metadata": {},
   "outputs": [
    {
     "data": {
      "text/plain": [
       "array([[4, 5],\n",
       "       [6, 7]])"
      ]
     },
     "execution_count": 130,
     "metadata": {},
     "output_type": "execute_result"
    }
   ],
   "source": [
    "arr2"
   ]
  },
  {
   "cell_type": "code",
   "execution_count": 131,
   "id": "a7e31b8c",
   "metadata": {},
   "outputs": [
    {
     "data": {
      "text/plain": [
       "array([[ 5,  7],\n",
       "       [ 9, 11]])"
      ]
     },
     "execution_count": 131,
     "metadata": {},
     "output_type": "execute_result"
    }
   ],
   "source": [
    "arr1 + arr2"
   ]
  },
  {
   "cell_type": "code",
   "execution_count": 132,
   "id": "c0827f42",
   "metadata": {},
   "outputs": [
    {
     "data": {
      "text/plain": [
       "array([[2, 4],\n",
       "       [6, 8]])"
      ]
     },
     "execution_count": 132,
     "metadata": {},
     "output_type": "execute_result"
    }
   ],
   "source": [
    "arr1 * 2"
   ]
  },
  {
   "cell_type": "code",
   "execution_count": 133,
   "id": "0672cf7c",
   "metadata": {},
   "outputs": [
    {
     "data": {
      "text/plain": [
       "array([[    1,    32],\n",
       "       [  729, 16384]], dtype=int32)"
      ]
     },
     "execution_count": 133,
     "metadata": {},
     "output_type": "execute_result"
    }
   ],
   "source": [
    "arr1 ** arr2"
   ]
  },
  {
   "cell_type": "code",
   "execution_count": 134,
   "id": "7465ec91",
   "metadata": {},
   "outputs": [
    {
     "data": {
      "text/plain": [
       "array([[ 4, 10],\n",
       "       [18, 28]])"
      ]
     },
     "execution_count": 134,
     "metadata": {},
     "output_type": "execute_result"
    }
   ],
   "source": [
    "arr1 * arr2\n",
    "## Multiplication done using numpy"
   ]
  },
  {
   "cell_type": "markdown",
   "id": "d5d47e02",
   "metadata": {},
   "source": [
    "### dot "
   ]
  },
  {
   "cell_type": "code",
   "execution_count": 135,
   "id": "e7c36bf4",
   "metadata": {},
   "outputs": [
    {
     "data": {
      "text/plain": [
       "array([[16, 19],\n",
       "       [36, 43]])"
      ]
     },
     "execution_count": 135,
     "metadata": {},
     "output_type": "execute_result"
    }
   ],
   "source": [
    "arr1.dot(arr2)\n",
    "### like we done in mathematics"
   ]
  },
  {
   "cell_type": "code",
   "execution_count": null,
   "id": "e7910ccf",
   "metadata": {},
   "outputs": [],
   "source": []
  },
  {
   "cell_type": "markdown",
   "id": "0308e715",
   "metadata": {},
   "source": [
    "### Various Numpy array Functions "
   ]
  },
  {
   "cell_type": "code",
   "execution_count": 136,
   "id": "8b79b96e",
   "metadata": {},
   "outputs": [
    {
     "data": {
      "text/plain": [
       "array([10, 20, 30, 40, 50])"
      ]
     },
     "execution_count": 136,
     "metadata": {},
     "output_type": "execute_result"
    }
   ],
   "source": [
    "arr = np.array([10,20,30,40,50])\n",
    "arr"
   ]
  },
  {
   "cell_type": "code",
   "execution_count": 147,
   "id": "91e98e47",
   "metadata": {},
   "outputs": [
    {
     "name": "stdout",
     "output_type": "stream",
     "text": [
      "Minimum Number 10\n",
      "Maximum Number 50\n",
      "Arg min 0\n",
      "Arg max 4\n",
      "Square Root [3.16227766 4.47213595 5.47722558 6.32455532 7.07106781]\n",
      "Sin  [-0.54402111  0.91294525 -0.98803162  0.74511316 -0.26237485]\n",
      "Cos [-0.83907153  0.40808206  0.15425145 -0.66693806  0.96496603]\n",
      "Line Space [ 1.   5.5 10. ]\n"
     ]
    }
   ],
   "source": [
    "min_function = np.min(arr)\n",
    "print('Minimum Number' ,min_function)\n",
    "\n",
    "max_function = np.max(arr)\n",
    "print('Maximum Number', max_function)\n",
    "\n",
    "arg_min_function = np.argmin(arr)\n",
    "print('Arg min', arg_min_function) ## In 0 index there is 10 which is minimum value in list so print ==> 0\n",
    "\n",
    "arg_max_function = np.argmax(arr)\n",
    "print('Arg max', arg_max_function) ## Vice versa of above\n",
    "\n",
    "square_root_function = np.sqrt(arr)\n",
    "print('Square Root',square_root_function)\n",
    "\n",
    "sin_function = np.sin(arr)\n",
    "print('Sin ', sin_function)\n",
    "\n",
    "cos_function = np.cos(arr)\n",
    "print('Cos', cos_function)\n",
    "\n",
    "lin_space_function = np.linspace(1,10,3)\n",
    "print('Line Space', lin_space_function) ### From 1 to 9 prints 3 numbers which is equal to the difference"
   ]
  },
  {
   "cell_type": "code",
   "execution_count": null,
   "id": "94794050",
   "metadata": {},
   "outputs": [],
   "source": []
  },
  {
   "cell_type": "code",
   "execution_count": 148,
   "id": "1fce8fac",
   "metadata": {},
   "outputs": [
    {
     "data": {
      "text/plain": [
       "array([[16, 11, 13],\n",
       "       [17, 13, 16],\n",
       "       [ 3, 16, 11]])"
      ]
     },
     "execution_count": 148,
     "metadata": {},
     "output_type": "execute_result"
    }
   ],
   "source": [
    "np.random.seed(122)\n",
    "matrix = np.random.randint(1,21,9).reshape(3,3)\n",
    "matrix"
   ]
  },
  {
   "cell_type": "code",
   "execution_count": 150,
   "id": "6b9ec8b9",
   "metadata": {},
   "outputs": [
    {
     "data": {
      "text/plain": [
       "array([36, 40, 40])"
      ]
     },
     "execution_count": 150,
     "metadata": {},
     "output_type": "execute_result"
    }
   ],
   "source": [
    "np.sum(matrix, axis=0)"
   ]
  },
  {
   "cell_type": "code",
   "execution_count": null,
   "id": "85217062",
   "metadata": {},
   "outputs": [],
   "source": []
  },
  {
   "cell_type": "code",
   "execution_count": 156,
   "id": "3e6a5fc1",
   "metadata": {},
   "outputs": [
    {
     "data": {
      "text/plain": [
       "array([13, 20, 10,  3, 19,  9,  8,  8, 13])"
      ]
     },
     "execution_count": 156,
     "metadata": {},
     "output_type": "execute_result"
    }
   ],
   "source": [
    "np.random.seed(111)\n",
    "arr = np.random.randint(1,21,9)\n",
    "arr\n"
   ]
  },
  {
   "cell_type": "code",
   "execution_count": 160,
   "id": "ff97b18f",
   "metadata": {},
   "outputs": [
    {
     "data": {
      "text/plain": [
       "array([13,  8, 13,  9, 19, 10, 20,  3,  8])"
      ]
     },
     "execution_count": 160,
     "metadata": {},
     "output_type": "execute_result"
    }
   ],
   "source": [
    "## Shuffle\n",
    "np.random.shuffle(arr)\n",
    "arr"
   ]
  },
  {
   "cell_type": "code",
   "execution_count": 161,
   "id": "bfc94821",
   "metadata": {},
   "outputs": [
    {
     "data": {
      "text/plain": [
       "array([1, 2, 3, 1, 1, 2, 3, 6])"
      ]
     },
     "execution_count": 161,
     "metadata": {},
     "output_type": "execute_result"
    }
   ],
   "source": [
    "## Unique element\n",
    "\n",
    "unique_elements = np.array([1,2,3,1,1,2,3,6])\n",
    "unique_elements"
   ]
  },
  {
   "cell_type": "code",
   "execution_count": 162,
   "id": "1376332f",
   "metadata": {},
   "outputs": [
    {
     "data": {
      "text/plain": [
       "array([1, 2, 3, 6])"
      ]
     },
     "execution_count": 162,
     "metadata": {},
     "output_type": "execute_result"
    }
   ],
   "source": [
    "np.unique(unique_elements)"
   ]
  },
  {
   "cell_type": "code",
   "execution_count": 163,
   "id": "93c9b8ec",
   "metadata": {},
   "outputs": [
    {
     "data": {
      "text/plain": [
       "(array([1, 2, 3, 6]),\n",
       " array([0, 1, 2, 7], dtype=int64),\n",
       " array([3, 2, 2, 1], dtype=int64))"
      ]
     },
     "execution_count": 163,
     "metadata": {},
     "output_type": "execute_result"
    }
   ],
   "source": [
    "## Additional info \n",
    "np.unique(unique_elements, return_index=True, return_counts=True)\n",
    "## First unique elements\n",
    "## Second index of unique elements\n",
    "## Third total count of elements in list"
   ]
  },
  {
   "cell_type": "markdown",
   "id": "456ba46d",
   "metadata": {},
   "source": [
    "### Stacking (Horizontal and vertical Stacking in Numpy) "
   ]
  },
  {
   "cell_type": "code",
   "execution_count": 166,
   "id": "4931dba4",
   "metadata": {},
   "outputs": [],
   "source": [
    "arr1 = np.random.randint(1,10,5)\n",
    "arr2 = np.random.randint(10,20,5)"
   ]
  },
  {
   "cell_type": "code",
   "execution_count": 169,
   "id": "f8778008",
   "metadata": {},
   "outputs": [
    {
     "data": {
      "text/plain": [
       "array([ 7,  9,  1,  2,  4, 14, 15, 15, 15, 10])"
      ]
     },
     "execution_count": 169,
     "metadata": {},
     "output_type": "execute_result"
    }
   ],
   "source": [
    "horizontal_stack = np.hstack((arr1,arr2))\n",
    "horizontal_stack"
   ]
  },
  {
   "cell_type": "code",
   "execution_count": 170,
   "id": "39c33a7d",
   "metadata": {},
   "outputs": [
    {
     "data": {
      "text/plain": [
       "array([[ 7,  9,  1,  2,  4],\n",
       "       [14, 15, 15, 15, 10]])"
      ]
     },
     "execution_count": 170,
     "metadata": {},
     "output_type": "execute_result"
    }
   ],
   "source": [
    "vertical_stack = np.vstack((arr1,arr2))\n",
    "vertical_stack"
   ]
  },
  {
   "cell_type": "markdown",
   "id": "80d2da61",
   "metadata": {},
   "source": [
    "#### For 2d"
   ]
  },
  {
   "cell_type": "code",
   "execution_count": 171,
   "id": "d77dd5e3",
   "metadata": {},
   "outputs": [],
   "source": [
    "arr_2d_1 = np.random.randint(1,100,9).reshape(3,3)\n",
    "arr_2d_2 = np.random.randint(4,100,9).reshape(3,3)\n"
   ]
  },
  {
   "cell_type": "code",
   "execution_count": 172,
   "id": "2a3609cd",
   "metadata": {},
   "outputs": [
    {
     "data": {
      "text/plain": [
       "array([[34, 33,  8],\n",
       "       [99, 55, 44],\n",
       "       [79, 72, 51]])"
      ]
     },
     "execution_count": 172,
     "metadata": {},
     "output_type": "execute_result"
    }
   ],
   "source": [
    "arr_2d_1"
   ]
  },
  {
   "cell_type": "code",
   "execution_count": 173,
   "id": "33779d46",
   "metadata": {},
   "outputs": [
    {
     "data": {
      "text/plain": [
       "array([[66, 79, 44],\n",
       "       [46, 54, 95],\n",
       "       [78, 46, 44]])"
      ]
     },
     "execution_count": 173,
     "metadata": {},
     "output_type": "execute_result"
    }
   ],
   "source": [
    "arr_2d_2"
   ]
  },
  {
   "cell_type": "code",
   "execution_count": 178,
   "id": "017c46c2",
   "metadata": {},
   "outputs": [
    {
     "data": {
      "text/plain": [
       "array([[34, 33,  8, 66, 79, 44],\n",
       "       [99, 55, 44, 46, 54, 95],\n",
       "       [79, 72, 51, 78, 46, 44]])"
      ]
     },
     "execution_count": 178,
     "metadata": {},
     "output_type": "execute_result"
    }
   ],
   "source": [
    "horizontal = np.hstack((arr_2d_1, arr_2d_2))\n",
    "horizontal"
   ]
  },
  {
   "cell_type": "code",
   "execution_count": 179,
   "id": "10011f60",
   "metadata": {},
   "outputs": [
    {
     "data": {
      "text/plain": [
       "array([[34, 33,  8],\n",
       "       [99, 55, 44],\n",
       "       [79, 72, 51],\n",
       "       [66, 79, 44],\n",
       "       [46, 54, 95],\n",
       "       [78, 46, 44]])"
      ]
     },
     "execution_count": 179,
     "metadata": {},
     "output_type": "execute_result"
    }
   ],
   "source": [
    "vertical = np.vstack((arr_2d_1, arr_2d_2))\n",
    "vertical"
   ]
  },
  {
   "cell_type": "code",
   "execution_count": null,
   "id": "8cc2262e",
   "metadata": {},
   "outputs": [],
   "source": []
  },
  {
   "cell_type": "markdown",
   "id": "102385be",
   "metadata": {},
   "source": [
    "## List and Numpy\n",
    "\n",
    "Performance, Fast and Flexible (Numpy over List)"
   ]
  },
  {
   "cell_type": "code",
   "execution_count": 180,
   "id": "7db80eca",
   "metadata": {},
   "outputs": [
    {
     "name": "stdout",
     "output_type": "stream",
     "text": [
      "3.13 µs ± 55.4 ns per loop (mean ± std. dev. of 7 runs, 100000 loops each)\n"
     ]
    }
   ],
   "source": [
    "%timeit [i**2 for i in range(1,11)]"
   ]
  },
  {
   "cell_type": "code",
   "execution_count": 181,
   "id": "4fa14db3",
   "metadata": {},
   "outputs": [
    {
     "name": "stdout",
     "output_type": "stream",
     "text": [
      "1.5 µs ± 47.2 ns per loop (mean ± std. dev. of 7 runs, 100000 loops each)\n"
     ]
    }
   ],
   "source": [
    "%timeit np.arange(1,11) **2"
   ]
  },
  {
   "cell_type": "markdown",
   "id": "60be5159",
   "metadata": {},
   "source": [
    "### Searching an element in Numpy "
   ]
  },
  {
   "cell_type": "code",
   "execution_count": 183,
   "id": "fc7ade51",
   "metadata": {},
   "outputs": [
    {
     "data": {
      "text/plain": [
       "(array([3, 5], dtype=int64),)"
      ]
     },
     "execution_count": 183,
     "metadata": {},
     "output_type": "execute_result"
    }
   ],
   "source": [
    "arr = np.array([1,2,3,4,5,4])\n",
    "x = np.where(arr == 4)\n",
    "x\n",
    "\n",
    "## means 4 is present in index 3 and 5"
   ]
  },
  {
   "cell_type": "code",
   "execution_count": 185,
   "id": "70f0320f",
   "metadata": {},
   "outputs": [
    {
     "data": {
      "text/plain": [
       "(array([1, 3, 5], dtype=int64),)"
      ]
     },
     "execution_count": 185,
     "metadata": {},
     "output_type": "execute_result"
    }
   ],
   "source": [
    "y = np.where(arr%2 == 0)\n",
    "y"
   ]
  },
  {
   "cell_type": "markdown",
   "id": "e954099f",
   "metadata": {},
   "source": [
    "### SearchSorted \n",
    "This method performs a binary search in the array, and return the index where the specified value would be inserted to maintain\n",
    "search order (Default search will be from left to right)"
   ]
  },
  {
   "cell_type": "code",
   "execution_count": 190,
   "id": "d7e019ba",
   "metadata": {},
   "outputs": [
    {
     "data": {
      "text/plain": [
       "3"
      ]
     },
     "execution_count": 190,
     "metadata": {},
     "output_type": "execute_result"
    }
   ],
   "source": [
    "a = np.array([2,3,5,9,10])\n",
    "x = np.searchsorted(a,7) ## Default left side\n",
    "print(x)\n",
    "\n",
    "\n",
    "## Can also search from right side\n",
    "# y = np.searchsorted(a,7,side='right')\n",
    "# y\n"
   ]
  },
  {
   "cell_type": "code",
   "execution_count": null,
   "id": "c501314e",
   "metadata": {},
   "outputs": [],
   "source": []
  }
 ],
 "metadata": {
  "kernelspec": {
   "display_name": "Python 3 (ipykernel)",
   "language": "python",
   "name": "python3"
  },
  "language_info": {
   "codemirror_mode": {
    "name": "ipython",
    "version": 3
   },
   "file_extension": ".py",
   "mimetype": "text/x-python",
   "name": "python",
   "nbconvert_exporter": "python",
   "pygments_lexer": "ipython3",
   "version": "3.9.7"
  }
 },
 "nbformat": 4,
 "nbformat_minor": 5
}
