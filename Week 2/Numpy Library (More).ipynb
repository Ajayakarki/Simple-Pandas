{
 "cells": [
  {
   "cell_type": "markdown",
   "id": "cecba877",
   "metadata": {},
   "source": [
    "## Numpy"
   ]
  },
  {
   "cell_type": "markdown",
   "id": "838c0e12",
   "metadata": {},
   "source": [
    "## Simple 1 d numy array"
   ]
  },
  {
   "cell_type": "code",
   "execution_count": 2,
   "id": "c73c3615",
   "metadata": {},
   "outputs": [],
   "source": [
    "import numpy as np"
   ]
  },
  {
   "cell_type": "code",
   "execution_count": 2,
   "id": "df93b4a0",
   "metadata": {},
   "outputs": [
    {
     "data": {
      "text/plain": [
       "array([1, 2, 3, 4, 5])"
      ]
     },
     "execution_count": 2,
     "metadata": {},
     "output_type": "execute_result"
    }
   ],
   "source": [
    "a = [1,2,3,4,5]\n",
    "my_arr = np.array(a)\n",
    "my_arr\n",
    "\n",
    "## or====> np.array([1,2,3,4,5])"
   ]
  },
  {
   "cell_type": "markdown",
   "id": "ac8354b8",
   "metadata": {},
   "source": [
    "### Making numpy array from user input "
   ]
  },
  {
   "cell_type": "code",
   "execution_count": 3,
   "id": "f6e41154",
   "metadata": {},
   "outputs": [
    {
     "name": "stdout",
     "output_type": "stream",
     "text": [
      "Enter a Size: 3\n",
      "Enter a number: 1\n",
      "Enter a number: 2\n",
      "Enter a number: 3\n"
     ]
    },
    {
     "data": {
      "text/plain": [
       "array([1, 2, 3])"
      ]
     },
     "execution_count": 3,
     "metadata": {},
     "output_type": "execute_result"
    }
   ],
   "source": [
    "a = []\n",
    "total_size = int(input('Enter a Size: '))\n",
    "for i in range(total_size):\n",
    "    number = int(input('Enter a number: '))\n",
    "    a.append(number)\n",
    "\n",
    "my_array = np.array(a)\n",
    "my_array"
   ]
  },
  {
   "cell_type": "markdown",
   "id": "46353522",
   "metadata": {},
   "source": [
    "### 2d array "
   ]
  },
  {
   "cell_type": "code",
   "execution_count": 4,
   "id": "159ac9a8",
   "metadata": {},
   "outputs": [
    {
     "data": {
      "text/plain": [
       "array([[1, 2, 3],\n",
       "       [3, 4, 5],\n",
       "       [6, 7, 8]])"
      ]
     },
     "execution_count": 4,
     "metadata": {},
     "output_type": "execute_result"
    }
   ],
   "source": [
    "two_dim = [[1,2,3], [3,4,5], [6,7,8]]\n",
    "array = np.array(two_dim)\n",
    "array"
   ]
  },
  {
   "cell_type": "code",
   "execution_count": 7,
   "id": "62dc3313",
   "metadata": {},
   "outputs": [
    {
     "name": "stdout",
     "output_type": "stream",
     "text": [
      "Dimension of array is:  2\n",
      "Size of array is:  (3, 3)\n"
     ]
    }
   ],
   "source": [
    "print('Dimension of array is: ', array.ndim)\n",
    "print('Size of array is: ', array.shape)"
   ]
  },
  {
   "cell_type": "markdown",
   "id": "67c2c3da",
   "metadata": {},
   "source": [
    "### Some Numpy Functions "
   ]
  },
  {
   "cell_type": "markdown",
   "id": "4c04a7b5",
   "metadata": {},
   "source": [
    "### Zeros, ones"
   ]
  },
  {
   "cell_type": "code",
   "execution_count": 9,
   "id": "5324d650",
   "metadata": {},
   "outputs": [
    {
     "data": {
      "text/plain": [
       "array([0., 0., 0.])"
      ]
     },
     "execution_count": 9,
     "metadata": {},
     "output_type": "execute_result"
    }
   ],
   "source": [
    "my_array = np.zeros(3)\n",
    "my_array"
   ]
  },
  {
   "cell_type": "code",
   "execution_count": 11,
   "id": "b2177e18",
   "metadata": {},
   "outputs": [
    {
     "data": {
      "text/plain": [
       "array([[0., 0., 0.],\n",
       "       [0., 0., 0.],\n",
       "       [0., 0., 0.]])"
      ]
     },
     "execution_count": 11,
     "metadata": {},
     "output_type": "execute_result"
    }
   ],
   "source": [
    "my_array = np.zeros((3,3))\n",
    "my_array"
   ]
  },
  {
   "cell_type": "code",
   "execution_count": 13,
   "id": "c35e8e8a",
   "metadata": {},
   "outputs": [
    {
     "data": {
      "text/plain": [
       "array([[1., 1., 1.],\n",
       "       [1., 1., 1.]])"
      ]
     },
     "execution_count": 13,
     "metadata": {},
     "output_type": "execute_result"
    }
   ],
   "source": [
    "my_1array = np.ones((2,3))\n",
    "my_1array"
   ]
  },
  {
   "cell_type": "markdown",
   "id": "b81d3ad0",
   "metadata": {},
   "source": [
    "## eye \n",
    "This function creates an array with all diagonal elements as 1 and rest as 0"
   ]
  },
  {
   "cell_type": "code",
   "execution_count": 15,
   "id": "6d177847",
   "metadata": {},
   "outputs": [
    {
     "data": {
      "text/plain": [
       "array([[1., 0., 0.],\n",
       "       [0., 1., 0.],\n",
       "       [0., 0., 1.]])"
      ]
     },
     "execution_count": 15,
     "metadata": {},
     "output_type": "execute_result"
    }
   ],
   "source": [
    "eye_function = np.eye(3)\n",
    "eye_function"
   ]
  },
  {
   "cell_type": "code",
   "execution_count": 17,
   "id": "06073881",
   "metadata": {},
   "outputs": [
    {
     "data": {
      "text/plain": [
       "array([[1., 0., 0.],\n",
       "       [0., 1., 0.],\n",
       "       [0., 0., 1.]])"
      ]
     },
     "execution_count": 17,
     "metadata": {},
     "output_type": "execute_result"
    }
   ],
   "source": [
    "eye_function2 = np.eye(3,3)\n",
    "eye_function2"
   ]
  },
  {
   "cell_type": "markdown",
   "id": "e116f80e",
   "metadata": {},
   "source": [
    "### diag \n",
    "This function creates the two dimensional array  with all the diagonal elements as the given value"
   ]
  },
  {
   "cell_type": "code",
   "execution_count": 18,
   "id": "b665dd61",
   "metadata": {},
   "outputs": [
    {
     "data": {
      "text/plain": [
       "array([[1, 0, 0],\n",
       "       [0, 2, 0],\n",
       "       [0, 0, 4]])"
      ]
     },
     "execution_count": 18,
     "metadata": {},
     "output_type": "execute_result"
    }
   ],
   "source": [
    "diag_function = np.diag([1,2,4])\n",
    "diag_function"
   ]
  },
  {
   "cell_type": "markdown",
   "id": "fa0d51fa",
   "metadata": {},
   "source": [
    "### randint\n",
    "This function is used to generate the numbers between the given range <br>\n",
    "Syntax rand(min, max, total_values)"
   ]
  },
  {
   "cell_type": "code",
   "execution_count": 20,
   "id": "238cf60a",
   "metadata": {},
   "outputs": [
    {
     "data": {
      "text/plain": [
       "array([4, 1, 2])"
      ]
     },
     "execution_count": 20,
     "metadata": {},
     "output_type": "execute_result"
    }
   ],
   "source": [
    "arr = np.random.randint(1,7,3)\n",
    "arr\n",
    "## output from 1 to 6 (exclude 7)"
   ]
  },
  {
   "cell_type": "markdown",
   "id": "1d2dd222",
   "metadata": {},
   "source": [
    "### rand\n",
    "This function is used to generate the random numbers between 0 and 1"
   ]
  },
  {
   "cell_type": "code",
   "execution_count": 22,
   "id": "358b0f3e",
   "metadata": {},
   "outputs": [
    {
     "data": {
      "text/plain": [
       "array([0.64892903, 0.63180763, 0.90319085])"
      ]
     },
     "execution_count": 22,
     "metadata": {},
     "output_type": "execute_result"
    }
   ],
   "source": [
    "rand_arr = np.random.rand(3)\n",
    "rand_arr"
   ]
  },
  {
   "cell_type": "code",
   "execution_count": 24,
   "id": "ac522866",
   "metadata": {},
   "outputs": [
    {
     "data": {
      "text/plain": [
       "array([[0.0489554 , 0.45758361, 0.25876666],\n",
       "       [0.61709245, 0.49929354, 0.40689713]])"
      ]
     },
     "execution_count": 24,
     "metadata": {},
     "output_type": "execute_result"
    }
   ],
   "source": [
    "## In 2d array as well\n",
    "rand_2d_arr = np.random.rand(2,3)\n",
    "rand_2d_arr"
   ]
  },
  {
   "cell_type": "markdown",
   "id": "14c6dcd3",
   "metadata": {},
   "source": [
    "### randn  \n",
    "This function is used to generate random values close to 0 include - values"
   ]
  },
  {
   "cell_type": "code",
   "execution_count": 32,
   "id": "d2c3d3a0",
   "metadata": {},
   "outputs": [
    {
     "data": {
      "text/plain": [
       "array([-0.48226483,  0.50387836, -0.10567616,  0.76228805,  2.38722884,\n",
       "       -0.53708666])"
      ]
     },
     "execution_count": 32,
     "metadata": {},
     "output_type": "execute_result"
    }
   ],
   "source": [
    "ran_array = np.random.randn(6)\n",
    "ran_array"
   ]
  },
  {
   "cell_type": "code",
   "execution_count": 33,
   "id": "b9733410",
   "metadata": {},
   "outputs": [
    {
     "data": {
      "text/plain": [
       "6"
      ]
     },
     "execution_count": 33,
     "metadata": {},
     "output_type": "execute_result"
    }
   ],
   "source": [
    "ran_array.size"
   ]
  },
  {
   "cell_type": "code",
   "execution_count": 35,
   "id": "16327b5e",
   "metadata": {},
   "outputs": [
    {
     "name": "stdout",
     "output_type": "stream",
     "text": [
      "-0.4822648293582355\n",
      "0.5038783598458138\n",
      "-0.10567616260548367\n",
      "0.7622880474569715\n",
      "2.3872288439266134\n",
      "-0.5370866620127085\n"
     ]
    }
   ],
   "source": [
    "for i in range(ran_array.size):\n",
    "    print(ran_array[i])"
   ]
  },
  {
   "cell_type": "markdown",
   "id": "9a4470f9",
   "metadata": {},
   "source": [
    "### Slicing and indexing in Numpy "
   ]
  },
  {
   "cell_type": "code",
   "execution_count": 39,
   "id": "908fda77",
   "metadata": {},
   "outputs": [
    {
     "name": "stdout",
     "output_type": "stream",
     "text": [
      "Enter total size: 5\n",
      "Enter a number: 7\n",
      "Enter a number: 2\n",
      "Enter a number: 1\n",
      "Enter a number: 6\n",
      "Enter a number: 8\n",
      "Converted into numpyarr [7 2 1 6 8]\n",
      "7\n",
      "2\n",
      "1\n",
      "6\n",
      "8\n",
      "24\n",
      "********************\n",
      "index result =  [1 6]\n"
     ]
    }
   ],
   "source": [
    "empty_list = []\n",
    "total_size = int(input('Enter total size: '))\n",
    "\n",
    "for i in range(total_size):\n",
    "    number = int(input('Enter a number: '))\n",
    "    empty_list.append(number)\n",
    "    \n",
    "numpy_arr = np.array(empty_list)\n",
    "print('Converted into numpyarr', numpy_arr)\n",
    "\n",
    "## Indexing the numpy array\n",
    "for i in range(numpy_arr.size):\n",
    "    print(numpy_arr[i])\n",
    "    \n",
    "## sum values through indexing\n",
    "summ = 0\n",
    "size = numpy_arr.size\n",
    "for i in range(size):\n",
    "    summ += numpy_arr[i]\n",
    "print(summ)\n",
    "\n",
    "print('*' * 20)\n",
    "\n",
    "## Indexing\n",
    "\n",
    "indexing_of_arr = numpy_arr[2:4]\n",
    "print('index result = ', indexing_of_arr)"
   ]
  },
  {
   "cell_type": "markdown",
   "id": "c88238aa",
   "metadata": {},
   "source": [
    "### Reshaping numpy array \n",
    "From 1d to 2d or vice versa"
   ]
  },
  {
   "cell_type": "code",
   "execution_count": 40,
   "id": "06a036af",
   "metadata": {},
   "outputs": [
    {
     "data": {
      "text/plain": [
       "array([82, 16, 48, 21, 94, 97, 33, 18, 59, 83, 52, 22])"
      ]
     },
     "execution_count": 40,
     "metadata": {},
     "output_type": "execute_result"
    }
   ],
   "source": [
    "## Creating 1d array\n",
    "arr = np.random.randint(1,100,12)\n",
    "arr"
   ]
  },
  {
   "cell_type": "code",
   "execution_count": 41,
   "id": "1dad1061",
   "metadata": {},
   "outputs": [
    {
     "data": {
      "text/plain": [
       "array([[82, 16, 48],\n",
       "       [21, 94, 97],\n",
       "       [33, 18, 59],\n",
       "       [83, 52, 22]])"
      ]
     },
     "execution_count": 41,
     "metadata": {},
     "output_type": "execute_result"
    }
   ],
   "source": [
    "## converting above 1d array to 2d\n",
    "array_2d = arr.reshape(4,3)  ### means 4 rows and 3 columns (4*3 = 12) otherwise it will give error\n",
    "array_2d"
   ]
  },
  {
   "cell_type": "code",
   "execution_count": 44,
   "id": "51bfde82",
   "metadata": {},
   "outputs": [
    {
     "data": {
      "text/plain": [
       "array([82, 16, 48, 21, 94, 97, 33, 18, 59, 83, 52, 22])"
      ]
     },
     "execution_count": 44,
     "metadata": {},
     "output_type": "execute_result"
    }
   ],
   "source": [
    "## again converting 2d array to 1d\n",
    "arr_1d = arr.reshape(12)\n",
    "arr_1d"
   ]
  },
  {
   "cell_type": "code",
   "execution_count": 62,
   "id": "9ded3fa2",
   "metadata": {},
   "outputs": [
    {
     "name": "stdout",
     "output_type": "stream",
     "text": [
      "Before reshaping Dimension is:  2\n",
      "Before reshaping Size is:  12\n",
      "Before reshaping shape is:  (4, 3)\n",
      "*************************\n",
      "After reshaping Dimension is:  1\n",
      "After reshaping Size is:  12\n",
      "After reshaping Shape is:  (12,)\n"
     ]
    }
   ],
   "source": [
    "print('Before reshaping Dimension is: ', array_2d.ndim)\n",
    "print('Before reshaping Size is: ', array_2d.size)\n",
    "print('Before reshaping shape is: ', array_2d.shape)\n",
    "\n",
    "print('*' * 25)\n",
    "print('After reshaping Dimension is: ', arr_1d.ndim)\n",
    "print('After reshaping Size is: ', arr_1d.size)\n",
    "print('After reshaping Shape is: ', arr_1d.shape)\n",
    "\n"
   ]
  },
  {
   "cell_type": "markdown",
   "id": "39beaf5b",
   "metadata": {},
   "source": [
    "### -1 concept "
   ]
  },
  {
   "cell_type": "code",
   "execution_count": 63,
   "id": "d0c84dc5",
   "metadata": {},
   "outputs": [
    {
     "data": {
      "text/plain": [
       "array([62, 99,  8, 65, 91, 25, 65,  8, 54, 91,  8, 43, 21, 71, 48, 90,  3,\n",
       "       70,  7, 80])"
      ]
     },
     "execution_count": 63,
     "metadata": {},
     "output_type": "execute_result"
    }
   ],
   "source": [
    "arr = np.random.randint(1,100, 20)\n",
    "arr"
   ]
  },
  {
   "cell_type": "code",
   "execution_count": 64,
   "id": "48eb96e6",
   "metadata": {},
   "outputs": [
    {
     "data": {
      "text/plain": [
       "array([[62, 99,  8, 65],\n",
       "       [91, 25, 65,  8],\n",
       "       [54, 91,  8, 43],\n",
       "       [21, 71, 48, 90],\n",
       "       [ 3, 70,  7, 80]])"
      ]
     },
     "execution_count": 64,
     "metadata": {},
     "output_type": "execute_result"
    }
   ],
   "source": [
    "reshape_arr_to_2d =arr.reshape(5, -1)\n",
    "reshape_arr_to_2d\n",
    "### Here we define row size i.e. 5 but we don't define column size and we write (-1) so the system automatically calculate row\n",
    "## 5 * _ = 20   ====> 4 so total column 4"
   ]
  },
  {
   "cell_type": "code",
   "execution_count": 66,
   "id": "c7e79e6d",
   "metadata": {},
   "outputs": [
    {
     "data": {
      "text/plain": [
       "array([[62, 99,  8, 65, 91, 25, 65,  8, 54, 91],\n",
       "       [ 8, 43, 21, 71, 48, 90,  3, 70,  7, 80]])"
      ]
     },
     "execution_count": 66,
     "metadata": {},
     "output_type": "execute_result"
    }
   ],
   "source": [
    "reshape_arr_to_2d_another = arr.reshape(-1, 10)\n",
    "reshape_arr_to_2d_another\n",
    "## Here we don't define row but define column and it automatically generated total rows (_ * 10 = 20) i.e (2 * 10 = 20)"
   ]
  },
  {
   "cell_type": "markdown",
   "id": "26579460",
   "metadata": {},
   "source": [
    "### seed function \n",
    "Basically when we use random.randint every time we execute different values is generated but if we use seed function\n",
    "same number is generated"
   ]
  },
  {
   "cell_type": "code",
   "execution_count": 70,
   "id": "24d97146",
   "metadata": {},
   "outputs": [
    {
     "data": {
      "text/plain": [
       "array([76, 28,  7,  3,  4, 68, 77, 49, 23, 50])"
      ]
     },
     "execution_count": 70,
     "metadata": {},
     "output_type": "execute_result"
    }
   ],
   "source": [
    "np.random.seed(12)# Can give any number and if we give another number 10 will generated another set of number but everytime same\n",
    "np.random.randint(1,100,10)"
   ]
  },
  {
   "cell_type": "markdown",
   "id": "df3d7a03",
   "metadata": {},
   "source": [
    "### Creating 2 dimensional array user input "
   ]
  },
  {
   "cell_type": "code",
   "execution_count": 72,
   "id": "15ee9444",
   "metadata": {},
   "outputs": [
    {
     "name": "stdout",
     "output_type": "stream",
     "text": [
      "Enter total number of rows: 3\n",
      "Enter total number of columns: 3\n",
      "Enter a number: 1\n",
      "Enter a number: 2\n",
      "Enter a number: 3\n",
      "Enter a number: 4\n",
      "Enter a number: 5\n",
      "Enter a number: 6\n",
      "Enter a number: 7\n",
      "Enter a number: 8\n",
      "Enter a number: 9\n",
      "numpy array:  [[1 2 3]\n",
      " [4 5 6]\n",
      " [7 8 9]]\n",
      "1 2 3 \n",
      "4 5 6 \n",
      "7 8 9 \n"
     ]
    }
   ],
   "source": [
    "rows = int(input('Enter total number of rows: '))\n",
    "columns = int(input('Enter total number of columns: '))\n",
    "matrix = []\n",
    "\n",
    "for i in range(rows):\n",
    "    a = []\n",
    "    for j in range(columns):\n",
    "        val = int(input('Enter a number: '))\n",
    "        a.append(val)\n",
    "    matrix.append(a)\n",
    "    \n",
    "arr = np.array(matrix)\n",
    "print('numpy array: ', arr)\n",
    "\n",
    "\n",
    "for i in range(rows):\n",
    "    for j in range(columns):\n",
    "        print(arr[i][j], end=\" \")\n",
    "    print()\n",
    "        \n",
    "        "
   ]
  },
  {
   "cell_type": "markdown",
   "id": "b8b6c73e",
   "metadata": {},
   "source": [
    "### Slicing 2d array example "
   ]
  },
  {
   "cell_type": "code",
   "execution_count": 74,
   "id": "cc936785",
   "metadata": {},
   "outputs": [
    {
     "data": {
      "text/plain": [
       "array([[53,  6, 14, 90],\n",
       "       [35, 76, 75,  1],\n",
       "       [77, 14, 83, 90],\n",
       "       [36, 63, 36, 34],\n",
       "       [31, 64, 97, 19]])"
      ]
     },
     "execution_count": 74,
     "metadata": {},
     "output_type": "execute_result"
    }
   ],
   "source": [
    "arr = np.random.randint(1,100,20).reshape(5,4)\n",
    "arr"
   ]
  },
  {
   "cell_type": "code",
   "execution_count": 75,
   "id": "8e1d55a8",
   "metadata": {},
   "outputs": [
    {
     "data": {
      "text/plain": [
       "array([[75,  1],\n",
       "       [83, 90]])"
      ]
     },
     "execution_count": 75,
     "metadata": {},
     "output_type": "execute_result"
    }
   ],
   "source": [
    "## Slicing arr =====> arr[row_range,column_range]\n",
    "arr[1:3,2:]"
   ]
  },
  {
   "cell_type": "code",
   "execution_count": 76,
   "id": "f228d56c",
   "metadata": {},
   "outputs": [
    {
     "data": {
      "text/plain": [
       "array([90, 34, 19])"
      ]
     },
     "execution_count": 76,
     "metadata": {},
     "output_type": "execute_result"
    }
   ],
   "source": [
    "arr[2:,-1]"
   ]
  },
  {
   "cell_type": "code",
   "execution_count": 77,
   "id": "0bd0a945",
   "metadata": {},
   "outputs": [
    {
     "data": {
      "text/plain": [
       "array([[83, 90],\n",
       "       [36, 34]])"
      ]
     },
     "execution_count": 77,
     "metadata": {},
     "output_type": "execute_result"
    }
   ],
   "source": [
    "arr[2:4,2:4]"
   ]
  },
  {
   "cell_type": "markdown",
   "id": "c3f6c808",
   "metadata": {},
   "source": [
    "### Condition Selection in Numpy "
   ]
  },
  {
   "cell_type": "code",
   "execution_count": 91,
   "id": "ae673b75",
   "metadata": {},
   "outputs": [
    {
     "data": {
      "text/plain": [
       "array([ 1,  2,  3,  4,  5,  6,  7,  8,  9, 10, 11, 12, 13, 14, 15])"
      ]
     },
     "execution_count": 91,
     "metadata": {},
     "output_type": "execute_result"
    }
   ],
   "source": [
    "arr = np.arange(1,16)\n",
    "arr"
   ]
  },
  {
   "cell_type": "code",
   "execution_count": 92,
   "id": "db0421b9",
   "metadata": {},
   "outputs": [
    {
     "data": {
      "text/plain": [
       "array([False, False, False, False, False, False, False, False, False,\n",
       "       False,  True,  True,  True,  True,  True])"
      ]
     },
     "execution_count": 92,
     "metadata": {},
     "output_type": "execute_result"
    }
   ],
   "source": [
    "a = arr > 10\n",
    "a"
   ]
  },
  {
   "cell_type": "code",
   "execution_count": 93,
   "id": "7d6d27ab",
   "metadata": {},
   "outputs": [
    {
     "data": {
      "text/plain": [
       "array([ 2,  4,  6,  8, 10, 12, 14])"
      ]
     },
     "execution_count": 93,
     "metadata": {},
     "output_type": "execute_result"
    }
   ],
   "source": [
    "### print even numbers\n",
    "b = arr[arr%2 == 0]\n",
    "b"
   ]
  },
  {
   "cell_type": "code",
   "execution_count": 94,
   "id": "0529a36a",
   "metadata": {},
   "outputs": [
    {
     "data": {
      "text/plain": [
       "array([1, 2, 3, 4])"
      ]
     },
     "execution_count": 94,
     "metadata": {},
     "output_type": "execute_result"
    }
   ],
   "source": [
    "c = arr[arr<5]\n",
    "c"
   ]
  },
  {
   "cell_type": "code",
   "execution_count": 96,
   "id": "2e6d8a64",
   "metadata": {},
   "outputs": [],
   "source": [
    "d = arr[arr>10]=0"
   ]
  },
  {
   "cell_type": "code",
   "execution_count": 98,
   "id": "40785685",
   "metadata": {},
   "outputs": [
    {
     "data": {
      "text/plain": [
       "array([ 1,  2,  3,  4,  5,  6,  7,  8,  9, 10,  0,  0,  0,  0,  0])"
      ]
     },
     "execution_count": 98,
     "metadata": {},
     "output_type": "execute_result"
    }
   ],
   "source": [
    "arr"
   ]
  },
  {
   "cell_type": "markdown",
   "id": "282d165b",
   "metadata": {},
   "source": [
    "### various other operations in Numpy\n"
   ]
  },
  {
   "cell_type": "code",
   "execution_count": 110,
   "id": "79871c0f",
   "metadata": {},
   "outputs": [],
   "source": [
    "arr1 = np.arange(1,5)\n",
    "arr2 = np.arange(5,9)"
   ]
  },
  {
   "cell_type": "code",
   "execution_count": 111,
   "id": "df5df365",
   "metadata": {},
   "outputs": [
    {
     "data": {
      "text/plain": [
       "array([1, 2, 3, 4])"
      ]
     },
     "execution_count": 111,
     "metadata": {},
     "output_type": "execute_result"
    }
   ],
   "source": [
    "arr1"
   ]
  },
  {
   "cell_type": "code",
   "execution_count": 112,
   "id": "b11c7f91",
   "metadata": {},
   "outputs": [
    {
     "data": {
      "text/plain": [
       "array([5, 6, 7, 8])"
      ]
     },
     "execution_count": 112,
     "metadata": {},
     "output_type": "execute_result"
    }
   ],
   "source": [
    "arr2"
   ]
  },
  {
   "cell_type": "code",
   "execution_count": 113,
   "id": "4551e0c9",
   "metadata": {},
   "outputs": [
    {
     "name": "stdout",
     "output_type": "stream",
     "text": [
      "[ 6  8 10 12]\n",
      "[2 4 6 8]\n",
      "[ 1  4  9 16]\n",
      "[    1    64  2187 65536]\n"
     ]
    }
   ],
   "source": [
    "print(arr1 + arr2)\n",
    "print(arr1*2)\n",
    "print(arr1**2)\n",
    "print(arr1**arr2)"
   ]
  },
  {
   "cell_type": "markdown",
   "id": "65bf1bca",
   "metadata": {},
   "source": [
    "#### For 2 dim "
   ]
  },
  {
   "cell_type": "code",
   "execution_count": 128,
   "id": "6419f9df",
   "metadata": {},
   "outputs": [],
   "source": [
    "arr1 = np.array([1,2,3,4]).reshape(2,2)\n",
    "arr2 = np.array([4,5,6,7]).reshape(2,2)"
   ]
  },
  {
   "cell_type": "code",
   "execution_count": 129,
   "id": "0ea28037",
   "metadata": {},
   "outputs": [
    {
     "data": {
      "text/plain": [
       "array([[1, 2],\n",
       "       [3, 4]])"
      ]
     },
     "execution_count": 129,
     "metadata": {},
     "output_type": "execute_result"
    }
   ],
   "source": [
    "arr1"
   ]
  },
  {
   "cell_type": "code",
   "execution_count": 130,
   "id": "5605607c",
   "metadata": {},
   "outputs": [
    {
     "data": {
      "text/plain": [
       "array([[4, 5],\n",
       "       [6, 7]])"
      ]
     },
     "execution_count": 130,
     "metadata": {},
     "output_type": "execute_result"
    }
   ],
   "source": [
    "arr2"
   ]
  },
  {
   "cell_type": "code",
   "execution_count": 131,
   "id": "a7e31b8c",
   "metadata": {},
   "outputs": [
    {
     "data": {
      "text/plain": [
       "array([[ 5,  7],\n",
       "       [ 9, 11]])"
      ]
     },
     "execution_count": 131,
     "metadata": {},
     "output_type": "execute_result"
    }
   ],
   "source": [
    "arr1 + arr2"
   ]
  },
  {
   "cell_type": "code",
   "execution_count": 132,
   "id": "c0827f42",
   "metadata": {},
   "outputs": [
    {
     "data": {
      "text/plain": [
       "array([[2, 4],\n",
       "       [6, 8]])"
      ]
     },
     "execution_count": 132,
     "metadata": {},
     "output_type": "execute_result"
    }
   ],
   "source": [
    "arr1 * 2"
   ]
  },
  {
   "cell_type": "code",
   "execution_count": 133,
   "id": "0672cf7c",
   "metadata": {},
   "outputs": [
    {
     "data": {
      "text/plain": [
       "array([[    1,    32],\n",
       "       [  729, 16384]], dtype=int32)"
      ]
     },
     "execution_count": 133,
     "metadata": {},
     "output_type": "execute_result"
    }
   ],
   "source": [
    "arr1 ** arr2"
   ]
  },
  {
   "cell_type": "code",
   "execution_count": 134,
   "id": "7465ec91",
   "metadata": {},
   "outputs": [
    {
     "data": {
      "text/plain": [
       "array([[ 4, 10],\n",
       "       [18, 28]])"
      ]
     },
     "execution_count": 134,
     "metadata": {},
     "output_type": "execute_result"
    }
   ],
   "source": [
    "arr1 * arr2\n",
    "## Multiplication done using numpy"
   ]
  },
  {
   "cell_type": "markdown",
   "id": "d5d47e02",
   "metadata": {},
   "source": [
    "### dot "
   ]
  },
  {
   "cell_type": "code",
   "execution_count": 135,
   "id": "e7c36bf4",
   "metadata": {},
   "outputs": [
    {
     "data": {
      "text/plain": [
       "array([[16, 19],\n",
       "       [36, 43]])"
      ]
     },
     "execution_count": 135,
     "metadata": {},
     "output_type": "execute_result"
    }
   ],
   "source": [
    "arr1.dot(arr2)\n",
    "### like we done in mathematics"
   ]
  },
  {
   "cell_type": "code",
   "execution_count": null,
   "id": "e7910ccf",
   "metadata": {},
   "outputs": [],
   "source": []
  },
  {
   "cell_type": "markdown",
   "id": "0308e715",
   "metadata": {},
   "source": [
    "### Various Numpy array Functions "
   ]
  },
  {
   "cell_type": "code",
   "execution_count": 136,
   "id": "8b79b96e",
   "metadata": {},
   "outputs": [
    {
     "data": {
      "text/plain": [
       "array([10, 20, 30, 40, 50])"
      ]
     },
     "execution_count": 136,
     "metadata": {},
     "output_type": "execute_result"
    }
   ],
   "source": [
    "arr = np.array([10,20,30,40,50])\n",
    "arr"
   ]
  },
  {
   "cell_type": "code",
   "execution_count": 147,
   "id": "91e98e47",
   "metadata": {},
   "outputs": [
    {
     "name": "stdout",
     "output_type": "stream",
     "text": [
      "Minimum Number 10\n",
      "Maximum Number 50\n",
      "Arg min 0\n",
      "Arg max 4\n",
      "Square Root [3.16227766 4.47213595 5.47722558 6.32455532 7.07106781]\n",
      "Sin  [-0.54402111  0.91294525 -0.98803162  0.74511316 -0.26237485]\n",
      "Cos [-0.83907153  0.40808206  0.15425145 -0.66693806  0.96496603]\n",
      "Line Space [ 1.   5.5 10. ]\n"
     ]
    }
   ],
   "source": [
    "min_function = np.min(arr)\n",
    "print('Minimum Number' ,min_function)\n",
    "\n",
    "max_function = np.max(arr)\n",
    "print('Maximum Number', max_function)\n",
    "\n",
    "arg_min_function = np.argmin(arr)\n",
    "print('Arg min', arg_min_function) ## In 0 index there is 10 which is minimum value in list so print ==> 0\n",
    "\n",
    "arg_max_function = np.argmax(arr)\n",
    "print('Arg max', arg_max_function) ## Vice versa of above\n",
    "\n",
    "square_root_function = np.sqrt(arr)\n",
    "print('Square Root',square_root_function)\n",
    "\n",
    "sin_function = np.sin(arr)\n",
    "print('Sin ', sin_function)\n",
    "\n",
    "cos_function = np.cos(arr)\n",
    "print('Cos', cos_function)\n",
    "\n",
    "lin_space_function = np.linspace(1,10,3)\n",
    "print('Line Space', lin_space_function) ### From 1 to 9 prints 3 numbers which is equal to the difference"
   ]
  },
  {
   "cell_type": "code",
   "execution_count": null,
   "id": "94794050",
   "metadata": {},
   "outputs": [],
   "source": []
  },
  {
   "cell_type": "code",
   "execution_count": 148,
   "id": "1fce8fac",
   "metadata": {},
   "outputs": [
    {
     "data": {
      "text/plain": [
       "array([[16, 11, 13],\n",
       "       [17, 13, 16],\n",
       "       [ 3, 16, 11]])"
      ]
     },
     "execution_count": 148,
     "metadata": {},
     "output_type": "execute_result"
    }
   ],
   "source": [
    "np.random.seed(122)\n",
    "matrix = np.random.randint(1,21,9).reshape(3,3)\n",
    "matrix"
   ]
  },
  {
   "cell_type": "code",
   "execution_count": 150,
   "id": "6b9ec8b9",
   "metadata": {},
   "outputs": [
    {
     "data": {
      "text/plain": [
       "array([36, 40, 40])"
      ]
     },
     "execution_count": 150,
     "metadata": {},
     "output_type": "execute_result"
    }
   ],
   "source": [
    "np.sum(matrix, axis=0)"
   ]
  },
  {
   "cell_type": "code",
   "execution_count": null,
   "id": "85217062",
   "metadata": {},
   "outputs": [],
   "source": []
  },
  {
   "cell_type": "code",
   "execution_count": 156,
   "id": "3e6a5fc1",
   "metadata": {},
   "outputs": [
    {
     "data": {
      "text/plain": [
       "array([13, 20, 10,  3, 19,  9,  8,  8, 13])"
      ]
     },
     "execution_count": 156,
     "metadata": {},
     "output_type": "execute_result"
    }
   ],
   "source": [
    "np.random.seed(111)\n",
    "arr = np.random.randint(1,21,9)\n",
    "arr\n"
   ]
  },
  {
   "cell_type": "code",
   "execution_count": 160,
   "id": "ff97b18f",
   "metadata": {},
   "outputs": [
    {
     "data": {
      "text/plain": [
       "array([13,  8, 13,  9, 19, 10, 20,  3,  8])"
      ]
     },
     "execution_count": 160,
     "metadata": {},
     "output_type": "execute_result"
    }
   ],
   "source": [
    "## Shuffle\n",
    "np.random.shuffle(arr)\n",
    "arr"
   ]
  },
  {
   "cell_type": "code",
   "execution_count": 161,
   "id": "bfc94821",
   "metadata": {},
   "outputs": [
    {
     "data": {
      "text/plain": [
       "array([1, 2, 3, 1, 1, 2, 3, 6])"
      ]
     },
     "execution_count": 161,
     "metadata": {},
     "output_type": "execute_result"
    }
   ],
   "source": [
    "## Unique element\n",
    "\n",
    "unique_elements = np.array([1,2,3,1,1,2,3,6])\n",
    "unique_elements"
   ]
  },
  {
   "cell_type": "code",
   "execution_count": 162,
   "id": "1376332f",
   "metadata": {},
   "outputs": [
    {
     "data": {
      "text/plain": [
       "array([1, 2, 3, 6])"
      ]
     },
     "execution_count": 162,
     "metadata": {},
     "output_type": "execute_result"
    }
   ],
   "source": [
    "np.unique(unique_elements)"
   ]
  },
  {
   "cell_type": "code",
   "execution_count": 163,
   "id": "93c9b8ec",
   "metadata": {},
   "outputs": [
    {
     "data": {
      "text/plain": [
       "(array([1, 2, 3, 6]),\n",
       " array([0, 1, 2, 7], dtype=int64),\n",
       " array([3, 2, 2, 1], dtype=int64))"
      ]
     },
     "execution_count": 163,
     "metadata": {},
     "output_type": "execute_result"
    }
   ],
   "source": [
    "## Additional info \n",
    "np.unique(unique_elements, return_index=True, return_counts=True)\n",
    "## First unique elements\n",
    "## Second index of unique elements\n",
    "## Third total count of elements in list"
   ]
  },
  {
   "cell_type": "markdown",
   "id": "456ba46d",
   "metadata": {},
   "source": [
    "### Stacking (Horizontal and vertical Stacking in Numpy) "
   ]
  },
  {
   "cell_type": "code",
   "execution_count": 166,
   "id": "4931dba4",
   "metadata": {},
   "outputs": [],
   "source": [
    "arr1 = np.random.randint(1,10,5)\n",
    "arr2 = np.random.randint(10,20,5)"
   ]
  },
  {
   "cell_type": "code",
   "execution_count": 169,
   "id": "f8778008",
   "metadata": {},
   "outputs": [
    {
     "data": {
      "text/plain": [
       "array([ 7,  9,  1,  2,  4, 14, 15, 15, 15, 10])"
      ]
     },
     "execution_count": 169,
     "metadata": {},
     "output_type": "execute_result"
    }
   ],
   "source": [
    "horizontal_stack = np.hstack((arr1,arr2))\n",
    "horizontal_stack"
   ]
  },
  {
   "cell_type": "code",
   "execution_count": 170,
   "id": "39c33a7d",
   "metadata": {},
   "outputs": [
    {
     "data": {
      "text/plain": [
       "array([[ 7,  9,  1,  2,  4],\n",
       "       [14, 15, 15, 15, 10]])"
      ]
     },
     "execution_count": 170,
     "metadata": {},
     "output_type": "execute_result"
    }
   ],
   "source": [
    "vertical_stack = np.vstack((arr1,arr2))\n",
    "vertical_stack"
   ]
  },
  {
   "cell_type": "markdown",
   "id": "80d2da61",
   "metadata": {},
   "source": [
    "#### For 2d"
   ]
  },
  {
   "cell_type": "code",
   "execution_count": 171,
   "id": "d77dd5e3",
   "metadata": {},
   "outputs": [],
   "source": [
    "arr_2d_1 = np.random.randint(1,100,9).reshape(3,3)\n",
    "arr_2d_2 = np.random.randint(4,100,9).reshape(3,3)\n"
   ]
  },
  {
   "cell_type": "code",
   "execution_count": 172,
   "id": "2a3609cd",
   "metadata": {},
   "outputs": [
    {
     "data": {
      "text/plain": [
       "array([[34, 33,  8],\n",
       "       [99, 55, 44],\n",
       "       [79, 72, 51]])"
      ]
     },
     "execution_count": 172,
     "metadata": {},
     "output_type": "execute_result"
    }
   ],
   "source": [
    "arr_2d_1"
   ]
  },
  {
   "cell_type": "code",
   "execution_count": 173,
   "id": "33779d46",
   "metadata": {},
   "outputs": [
    {
     "data": {
      "text/plain": [
       "array([[66, 79, 44],\n",
       "       [46, 54, 95],\n",
       "       [78, 46, 44]])"
      ]
     },
     "execution_count": 173,
     "metadata": {},
     "output_type": "execute_result"
    }
   ],
   "source": [
    "arr_2d_2"
   ]
  },
  {
   "cell_type": "code",
   "execution_count": 178,
   "id": "017c46c2",
   "metadata": {},
   "outputs": [
    {
     "data": {
      "text/plain": [
       "array([[34, 33,  8, 66, 79, 44],\n",
       "       [99, 55, 44, 46, 54, 95],\n",
       "       [79, 72, 51, 78, 46, 44]])"
      ]
     },
     "execution_count": 178,
     "metadata": {},
     "output_type": "execute_result"
    }
   ],
   "source": [
    "horizontal = np.hstack((arr_2d_1, arr_2d_2))\n",
    "horizontal"
   ]
  },
  {
   "cell_type": "code",
   "execution_count": 179,
   "id": "10011f60",
   "metadata": {},
   "outputs": [
    {
     "data": {
      "text/plain": [
       "array([[34, 33,  8],\n",
       "       [99, 55, 44],\n",
       "       [79, 72, 51],\n",
       "       [66, 79, 44],\n",
       "       [46, 54, 95],\n",
       "       [78, 46, 44]])"
      ]
     },
     "execution_count": 179,
     "metadata": {},
     "output_type": "execute_result"
    }
   ],
   "source": [
    "vertical = np.vstack((arr_2d_1, arr_2d_2))\n",
    "vertical"
   ]
  },
  {
   "cell_type": "code",
   "execution_count": null,
   "id": "8cc2262e",
   "metadata": {},
   "outputs": [],
   "source": []
  },
  {
   "cell_type": "markdown",
   "id": "102385be",
   "metadata": {},
   "source": [
    "## List and Numpy\n",
    "\n",
    "Performance, Fast and Flexible (Numpy over List)"
   ]
  },
  {
   "cell_type": "code",
   "execution_count": 180,
   "id": "7db80eca",
   "metadata": {},
   "outputs": [
    {
     "name": "stdout",
     "output_type": "stream",
     "text": [
      "3.13 µs ± 55.4 ns per loop (mean ± std. dev. of 7 runs, 100000 loops each)\n"
     ]
    }
   ],
   "source": [
    "%timeit [i**2 for i in range(1,11)]"
   ]
  },
  {
   "cell_type": "code",
   "execution_count": 181,
   "id": "4fa14db3",
   "metadata": {},
   "outputs": [
    {
     "name": "stdout",
     "output_type": "stream",
     "text": [
      "1.5 µs ± 47.2 ns per loop (mean ± std. dev. of 7 runs, 100000 loops each)\n"
     ]
    }
   ],
   "source": [
    "%timeit np.arange(1,11) **2"
   ]
  },
  {
   "cell_type": "markdown",
   "id": "60be5159",
   "metadata": {},
   "source": [
    "### Searching an element in Numpy "
   ]
  },
  {
   "cell_type": "code",
   "execution_count": 183,
   "id": "fc7ade51",
   "metadata": {},
   "outputs": [
    {
     "data": {
      "text/plain": [
       "(array([3, 5], dtype=int64),)"
      ]
     },
     "execution_count": 183,
     "metadata": {},
     "output_type": "execute_result"
    }
   ],
   "source": [
    "arr = np.array([1,2,3,4,5,4])\n",
    "x = np.where(arr == 4)\n",
    "x\n",
    "\n",
    "## means 4 is present in index 3 and 5"
   ]
  },
  {
   "cell_type": "code",
   "execution_count": 185,
   "id": "70f0320f",
   "metadata": {},
   "outputs": [
    {
     "data": {
      "text/plain": [
       "(array([1, 3, 5], dtype=int64),)"
      ]
     },
     "execution_count": 185,
     "metadata": {},
     "output_type": "execute_result"
    }
   ],
   "source": [
    "y = np.where(arr%2 == 0)\n",
    "y"
   ]
  },
  {
   "cell_type": "markdown",
   "id": "e954099f",
   "metadata": {},
   "source": [
    "### SearchSorted \n",
    "This method performs a binary search in the array, and return the index where the specified value would be inserted to maintain\n",
    "search order (Default search will be from left to right)"
   ]
  },
  {
   "cell_type": "code",
   "execution_count": 190,
   "id": "d7e019ba",
   "metadata": {},
   "outputs": [
    {
     "data": {
      "text/plain": [
       "3"
      ]
     },
     "execution_count": 190,
     "metadata": {},
     "output_type": "execute_result"
    }
   ],
   "source": [
    "a = np.array([2,3,5,9,10])\n",
    "x = np.searchsorted(a,7) ## Default left side\n",
    "print(x)\n",
    "\n",
    "\n",
    "## Can also search from right side\n",
    "# y = np.searchsorted(a,7,side='right')\n",
    "# y\n"
   ]
  },
  {
   "cell_type": "code",
   "execution_count": null,
   "id": "c501314e",
   "metadata": {},
   "outputs": [],
   "source": []
  },
  {
   "cell_type": "code",
   "execution_count": null,
   "id": "e83adb0b",
   "metadata": {},
   "outputs": [],
   "source": []
  },
  {
   "cell_type": "code",
   "execution_count": null,
   "id": "688a48fd",
   "metadata": {},
   "outputs": [],
   "source": []
  },
  {
   "cell_type": "code",
   "execution_count": null,
   "id": "a473fa33",
   "metadata": {},
   "outputs": [],
   "source": []
  },
  {
   "cell_type": "code",
   "execution_count": null,
   "id": "0b23ce60",
   "metadata": {},
   "outputs": [],
   "source": []
  },
  {
   "cell_type": "markdown",
   "id": "133b8a49",
   "metadata": {},
   "source": [
    "### Shape"
   ]
  },
  {
   "cell_type": "code",
   "execution_count": 2,
   "id": "c41d5cb9",
   "metadata": {},
   "outputs": [
    {
     "data": {
      "text/plain": [
       "(2, 3)"
      ]
     },
     "execution_count": 2,
     "metadata": {},
     "output_type": "execute_result"
    }
   ],
   "source": [
    "a = np.array([[1,2,3],[2,3,4]])\n",
    "a.shape"
   ]
  },
  {
   "cell_type": "code",
   "execution_count": 3,
   "id": "3c047aa3",
   "metadata": {},
   "outputs": [],
   "source": [
    "## Resizing\n",
    "a.shape = (3,2)"
   ]
  },
  {
   "cell_type": "code",
   "execution_count": 4,
   "id": "e7899bfc",
   "metadata": {},
   "outputs": [
    {
     "name": "stdout",
     "output_type": "stream",
     "text": [
      "[[1 2]\n",
      " [3 2]\n",
      " [3 4]]\n"
     ]
    }
   ],
   "source": [
    "print(a)"
   ]
  },
  {
   "cell_type": "markdown",
   "id": "904ff759",
   "metadata": {},
   "source": [
    "### Reshape Function"
   ]
  },
  {
   "cell_type": "code",
   "execution_count": 7,
   "id": "f4c970d2",
   "metadata": {},
   "outputs": [
    {
     "data": {
      "text/plain": [
       "array([[1, 2],\n",
       "       [3, 2],\n",
       "       [3, 4]])"
      ]
     },
     "execution_count": 7,
     "metadata": {},
     "output_type": "execute_result"
    }
   ],
   "source": [
    "a = [[1,2,3], [2,3,4]]\n",
    "arr = np.array(a)\n",
    "reshape = arr.reshape(3,2) ## If we do (3,4) gives error beacuse 6 itemns and 3*4 = 12 wrong\n",
    "reshape"
   ]
  },
  {
   "cell_type": "markdown",
   "id": "e336c380",
   "metadata": {},
   "source": [
    "### N dim and arrange"
   ]
  },
  {
   "cell_type": "code",
   "execution_count": 9,
   "id": "c5a0eca6",
   "metadata": {},
   "outputs": [
    {
     "name": "stdout",
     "output_type": "stream",
     "text": [
      "[ 0  1  2  3  4  5  6  7  8  9 10 11 12 13 14 15 16 17 18 19 20 21 22 23]\n",
      "Dimension is  1\n"
     ]
    }
   ],
   "source": [
    "a = np.arange(24)\n",
    "print(a)\n",
    "print('Dimension is ', a.ndim)"
   ]
  },
  {
   "cell_type": "code",
   "execution_count": 10,
   "id": "fe728ec6",
   "metadata": {},
   "outputs": [
    {
     "data": {
      "text/plain": [
       "array([[[ 0,  1,  2],\n",
       "        [ 3,  4,  5],\n",
       "        [ 6,  7,  8],\n",
       "        [ 9, 10, 11]],\n",
       "\n",
       "       [[12, 13, 14],\n",
       "        [15, 16, 17],\n",
       "        [18, 19, 20],\n",
       "        [21, 22, 23]]])"
      ]
     },
     "execution_count": 10,
     "metadata": {},
     "output_type": "execute_result"
    }
   ],
   "source": [
    "## Reshaping it\n",
    "b = a.reshape(2,4,3)\n",
    "b"
   ]
  },
  {
   "cell_type": "markdown",
   "id": "4378b8e0",
   "metadata": {},
   "source": [
    "### Item Size"
   ]
  },
  {
   "cell_type": "code",
   "execution_count": 11,
   "id": "a93ca55e",
   "metadata": {},
   "outputs": [
    {
     "data": {
      "text/plain": [
       "1"
      ]
     },
     "execution_count": 11,
     "metadata": {},
     "output_type": "execute_result"
    }
   ],
   "source": [
    "## The array attributes returns the length of each element od array in bytes\n",
    "x = np.array([1,2,3], dtype=np.int8) ## dtype of array is int8 (1 byte)\n",
    "x.itemsize"
   ]
  },
  {
   "cell_type": "code",
   "execution_count": 12,
   "id": "8f0a9684",
   "metadata": {},
   "outputs": [
    {
     "data": {
      "text/plain": [
       "4"
      ]
     },
     "execution_count": 12,
     "metadata": {},
     "output_type": "execute_result"
    }
   ],
   "source": [
    "x = np.array([1,2,3,4], dtype=np.float32) ## dtype of array is float32 (4 byte)\n",
    "x.itemsize"
   ]
  },
  {
   "cell_type": "markdown",
   "id": "1981871c",
   "metadata": {},
   "source": [
    "### Array creation"
   ]
  },
  {
   "cell_type": "code",
   "execution_count": 14,
   "id": "1b96e20d",
   "metadata": {},
   "outputs": [
    {
     "data": {
      "text/plain": [
       "array([[7209033, 6619252],\n",
       "       [7209074, 7602277],\n",
       "       [4522016, 7340152]])"
      ]
     },
     "execution_count": 14,
     "metadata": {},
     "output_type": "execute_result"
    }
   ],
   "source": [
    "## Empty\n",
    "x = np.empty([3,2],dtype=int)  ## Random variable will generated, dtype default will be folat\n",
    "x"
   ]
  },
  {
   "cell_type": "code",
   "execution_count": 20,
   "id": "d70a479a",
   "metadata": {},
   "outputs": [
    {
     "name": "stdout",
     "output_type": "stream",
     "text": [
      "Two dimension =  [[0. 0. 0.]\n",
      " [0. 0. 0.]]\n",
      "**********\n",
      "1 Dimension =  [0 0 0 0]\n"
     ]
    }
   ],
   "source": [
    "## zeros\n",
    "x = np.zeros([2,3]) ## default dtype = folat (2 dimension)\n",
    "print('Two dimension = ', x)\n",
    "\n",
    "print('*' * 10)\n",
    "y = np.zeros(4, dtype=int) ## convert to float (1 dimension)\n",
    "print('1 Dimension = ', y)\n",
    "\n",
    "\n",
    "## same will be for ones"
   ]
  },
  {
   "cell_type": "markdown",
   "id": "93211ba6",
   "metadata": {},
   "source": [
    "### numpy.asarray\n"
   ]
  },
  {
   "cell_type": "code",
   "execution_count": 33,
   "id": "3d114c6c",
   "metadata": {},
   "outputs": [
    {
     "name": "stdout",
     "output_type": "stream",
     "text": [
      "[1 2 3]\n",
      "<class 'numpy.ndarray'>\n"
     ]
    }
   ],
   "source": [
    "r = [1,2,3]\n",
    "arr = np.array(r)\n",
    "print(arr)\n",
    "print(type(arr))"
   ]
  },
  {
   "cell_type": "code",
   "execution_count": 32,
   "id": "094bc966",
   "metadata": {},
   "outputs": [
    {
     "name": "stdout",
     "output_type": "stream",
     "text": [
      "[1 2 3]\n"
     ]
    }
   ],
   "source": [
    "r = [1,2,3]\n",
    "rr = np.asarray(r)\n",
    "print(rr)"
   ]
  },
  {
   "cell_type": "code",
   "execution_count": 34,
   "id": "41aeb249",
   "metadata": {},
   "outputs": [
    {
     "data": {
      "text/plain": [
       "array([1, 2, 3])"
      ]
     },
     "execution_count": 34,
     "metadata": {},
     "output_type": "execute_result"
    }
   ],
   "source": [
    "tuplee = (1,2,3)\n",
    "arr = np.array(tuplee)\n",
    "arr"
   ]
  },
  {
   "cell_type": "markdown",
   "id": "7a262278",
   "metadata": {},
   "source": [
    "### Nd array from list of tuples"
   ]
  },
  {
   "cell_type": "code",
   "execution_count": 38,
   "id": "8fae3ccf",
   "metadata": {},
   "outputs": [
    {
     "name": "stderr",
     "output_type": "stream",
     "text": [
      "C:\\Users\\Dell\\anaconda3\\lib\\site-packages\\numpy\\core\\_asarray.py:102: VisibleDeprecationWarning: Creating an ndarray from ragged nested sequences (which is a list-or-tuple of lists-or-tuples-or ndarrays with different lengths or shapes) is deprecated. If you meant to do this, you must specify 'dtype=object' when creating the ndarray.\n",
      "  return array(a, dtype, copy=False, order=order)\n"
     ]
    },
    {
     "data": {
      "text/plain": [
       "array([(1, 2, 3), (4, 5)], dtype=object)"
      ]
     },
     "execution_count": 38,
     "metadata": {},
     "output_type": "execute_result"
    }
   ],
   "source": [
    "ss = [(1,2,3), (4,5)]\n",
    "arr = np.asarray(ss)\n",
    "arr"
   ]
  },
  {
   "cell_type": "code",
   "execution_count": 40,
   "id": "1357f99f",
   "metadata": {},
   "outputs": [
    {
     "data": {
      "text/plain": [
       "(1, 2, 3)"
      ]
     },
     "execution_count": 40,
     "metadata": {},
     "output_type": "execute_result"
    }
   ],
   "source": [
    "arr[0]"
   ]
  },
  {
   "cell_type": "markdown",
   "id": "03752012",
   "metadata": {},
   "source": [
    "### fromiter\n",
    "This function builds an ndarray from any iterable object. One dimensional array is return by this function"
   ]
  },
  {
   "cell_type": "code",
   "execution_count": 53,
   "id": "c04a1d07",
   "metadata": {},
   "outputs": [
    {
     "data": {
      "text/plain": [
       "<range_iterator at 0x14ac1806710>"
      ]
     },
     "execution_count": 53,
     "metadata": {},
     "output_type": "execute_result"
    }
   ],
   "source": [
    "list1 = range(5)\n",
    "\n",
    "it = iter(list1)\n",
    "it"
   ]
  },
  {
   "cell_type": "code",
   "execution_count": 62,
   "id": "c822dfaf",
   "metadata": {},
   "outputs": [
    {
     "name": "stdout",
     "output_type": "stream",
     "text": [
      "[0. 1. 2. 3. 4.]\n",
      "[ 0.  1.  2.  3.  4.  5.  6.  7.  8.  9. 10.]\n"
     ]
    }
   ],
   "source": [
    "x = np.fromiter(list1, dtype=float)  ## Any iterator \n",
    "print(x)\n",
    "\n",
    "y = np.fromiter(range(11), dtype=float)\n",
    "print(y)"
   ]
  },
  {
   "cell_type": "markdown",
   "id": "780beda3",
   "metadata": {},
   "source": [
    "### numpy.arange"
   ]
  },
  {
   "cell_type": "code",
   "execution_count": 63,
   "id": "0ce2249e",
   "metadata": {},
   "outputs": [
    {
     "data": {
      "text/plain": [
       "array([1, 3, 5, 7, 9])"
      ]
     },
     "execution_count": 63,
     "metadata": {},
     "output_type": "execute_result"
    }
   ],
   "source": [
    "x = np.arange(1,10,2) ## (Start, Stop, Step)\n",
    "x"
   ]
  },
  {
   "cell_type": "code",
   "execution_count": 68,
   "id": "2f49dfa6",
   "metadata": {},
   "outputs": [
    {
     "data": {
      "text/plain": [
       "array([0., 1., 2., 3., 4.])"
      ]
     },
     "execution_count": 68,
     "metadata": {},
     "output_type": "execute_result"
    }
   ],
   "source": [
    "y = np.arange(5, dtype=float)\n",
    "y"
   ]
  },
  {
   "cell_type": "markdown",
   "id": "2ae9f17f",
   "metadata": {},
   "source": [
    "### linspace\n",
    "Instead of step size in arange function , this function consists number like (how much number you want to generate)"
   ]
  },
  {
   "cell_type": "code",
   "execution_count": 72,
   "id": "f18a7cd3",
   "metadata": {},
   "outputs": [
    {
     "data": {
      "text/plain": [
       "array([ 1.  ,  3.25,  5.5 ,  7.75, 10.  ])"
      ]
     },
     "execution_count": 72,
     "metadata": {},
     "output_type": "execute_result"
    }
   ],
   "source": [
    "a = np.linspace(1,10, 5, dtype=float)\n",
    "a ## 5 number generated between 1 to 10 with data type float"
   ]
  },
  {
   "cell_type": "code",
   "execution_count": 75,
   "id": "6e6e58b0",
   "metadata": {},
   "outputs": [
    {
     "data": {
      "text/plain": [
       "array([1. , 2.8, 4.6, 6.4, 8.2])"
      ]
     },
     "execution_count": 75,
     "metadata": {},
     "output_type": "execute_result"
    }
   ],
   "source": [
    "## endpoint = False\n",
    "b = np.linspace(1,10,5, dtype=float, endpoint=False)\n",
    "b ## here the stop point i.e. 10 is excluded"
   ]
  },
  {
   "cell_type": "code",
   "execution_count": 76,
   "id": "ff18589b",
   "metadata": {},
   "outputs": [
    {
     "data": {
      "text/plain": [
       "(array([1.  , 1.25, 1.5 , 1.75, 2.  ]), 0.25)"
      ]
     },
     "execution_count": 76,
     "metadata": {},
     "output_type": "execute_result"
    }
   ],
   "source": [
    "### find restep value\n",
    "c = np.linspace(1,2,5, retstep = True)\n",
    "c"
   ]
  },
  {
   "cell_type": "markdown",
   "id": "0b768046",
   "metadata": {},
   "source": [
    "### logspace\n",
    "This function returns an ndarray object that contains the number that are evenly space on the log space (default base 10) <br>\n",
    "Example:\n"
   ]
  },
  {
   "cell_type": "code",
   "execution_count": 77,
   "id": "5b2f69cc",
   "metadata": {},
   "outputs": [
    {
     "data": {
      "text/plain": [
       "array([ 10.        ,  12.91549665,  16.68100537,  21.5443469 ,\n",
       "        27.82559402,  35.93813664,  46.41588834,  59.94842503,\n",
       "        77.42636827, 100.        ])"
      ]
     },
     "execution_count": 77,
     "metadata": {},
     "output_type": "execute_result"
    }
   ],
   "source": [
    "aa = np.logspace(1,2,num=10)\n",
    "aa"
   ]
  },
  {
   "cell_type": "code",
   "execution_count": 78,
   "id": "e3f57275",
   "metadata": {},
   "outputs": [
    {
     "data": {
      "text/plain": [
       "array([   2.,    4.,    8.,   16.,   32.,   64.,  128.,  256.,  512.,\n",
       "       1024.])"
      ]
     },
     "execution_count": 78,
     "metadata": {},
     "output_type": "execute_result"
    }
   ],
   "source": [
    "bb = np.logspace(1,10,num=10,base=2)\n",
    "bb ## 2*2 = 4*2 = 8*2 = 16 ...."
   ]
  },
  {
   "cell_type": "markdown",
   "id": "33e936b5",
   "metadata": {},
   "source": [
    "### Advances Indexing\n",
    "### 1) Integer Indexing"
   ]
  },
  {
   "cell_type": "code",
   "execution_count": 137,
   "id": "1db21fa6",
   "metadata": {},
   "outputs": [
    {
     "data": {
      "text/plain": [
       "array([2, 5, 6])"
      ]
     },
     "execution_count": 137,
     "metadata": {},
     "output_type": "execute_result"
    }
   ],
   "source": [
    "x = np.array([1,2,3,4,5,6,7,8,9])\n",
    "result = x[[1,4,5]]\n",
    "result"
   ]
  },
  {
   "cell_type": "code",
   "execution_count": 100,
   "id": "4a4b6921",
   "metadata": {},
   "outputs": [
    {
     "data": {
      "text/plain": [
       "array([4, 5, 8])"
      ]
     },
     "execution_count": 100,
     "metadata": {},
     "output_type": "execute_result"
    }
   ],
   "source": [
    "y = np.array(np.arange(10))\n",
    "result = y[[4,5,8]]\n",
    "result"
   ]
  },
  {
   "cell_type": "markdown",
   "id": "cc9fa76e",
   "metadata": {},
   "source": [
    "### Multi dimension Indexing"
   ]
  },
  {
   "cell_type": "code",
   "execution_count": 101,
   "id": "1c1d7333",
   "metadata": {},
   "outputs": [
    {
     "data": {
      "text/plain": [
       "array([[0, 1, 2],\n",
       "       [3, 4, 5],\n",
       "       [6, 7, 8]])"
      ]
     },
     "execution_count": 101,
     "metadata": {},
     "output_type": "execute_result"
    }
   ],
   "source": [
    "## For multidimensional\n",
    "arr = np.arange(9).reshape(3,3)\n",
    "arr"
   ]
  },
  {
   "cell_type": "code",
   "execution_count": 102,
   "id": "4d5bbf0b",
   "metadata": {},
   "outputs": [
    {
     "data": {
      "text/plain": [
       "array([1, 4, 6])"
      ]
     },
     "execution_count": 102,
     "metadata": {},
     "output_type": "execute_result"
    }
   ],
   "source": [
    "result = arr[[0,1,2], [1,1,0]]\n",
    "result"
   ]
  },
  {
   "cell_type": "markdown",
   "id": "f9e03f3c",
   "metadata": {},
   "source": [
    "### Other ways \n"
   ]
  },
  {
   "cell_type": "markdown",
   "id": "ee2debbe",
   "metadata": {},
   "source": [
    "#### For 1d"
   ]
  },
  {
   "cell_type": "code",
   "execution_count": 127,
   "id": "65d363e3",
   "metadata": {},
   "outputs": [
    {
     "data": {
      "text/plain": [
       "array([1, 2, 3])"
      ]
     },
     "execution_count": 127,
     "metadata": {},
     "output_type": "execute_result"
    }
   ],
   "source": [
    "x = np.array([1,2,3,4,5,6,7,8])\n",
    "\n",
    "r = np.array([0,1,2])\n",
    "\n",
    "result = x[r]\n",
    "result"
   ]
  },
  {
   "cell_type": "markdown",
   "id": "039cab52",
   "metadata": {},
   "source": [
    "#### For 2d"
   ]
  },
  {
   "cell_type": "code",
   "execution_count": 140,
   "id": "29757c80",
   "metadata": {},
   "outputs": [
    {
     "name": "stdout",
     "output_type": "stream",
     "text": [
      "our array: \n",
      "[[ 0  1  2]\n",
      " [ 3  2  5]\n",
      " [ 6  7  8]\n",
      " [ 9 10 11]]\n",
      "********************\n"
     ]
    },
    {
     "data": {
      "text/plain": [
       "array([[ 1,  2],\n",
       "       [ 9, 11]])"
      ]
     },
     "execution_count": 140,
     "metadata": {},
     "output_type": "execute_result"
    }
   ],
   "source": [
    "x = np.array([[0,1,2],[3,2,5],[6,7,8],[9,10,11]])\n",
    "print('our array: ')\n",
    "print(x)\n",
    "print('*' * 20)\n",
    "\n",
    "rows = np.array([[0,0],[3,3]])\n",
    "cols = np.array([[1,2], [0,2]])\n",
    "\n",
    "final = x[rows,cols]\n",
    "final"
   ]
  },
  {
   "cell_type": "code",
   "execution_count": 120,
   "id": "170ddd27",
   "metadata": {},
   "outputs": [
    {
     "name": "stdout",
     "output_type": "stream",
     "text": [
      "[[ 3  2  5]\n",
      " [ 6  7  8]\n",
      " [ 9 10 11]]\n",
      "**************\n",
      "[[ 2  5]\n",
      " [ 7  8]\n",
      " [10 11]]\n",
      "**************\n",
      "[[ 7]\n",
      " [10]]\n"
     ]
    }
   ],
   "source": [
    "x = np.array([[0,1,2],[3,2,5],[6,7,8],[9,10,11]])\n",
    "result1 = x[1:4]\n",
    "print(result1)\n",
    "print('*' *14)\n",
    "\n",
    "result2 = x[1:4,[1,2]]  ## From 1 to 4 and after ',' ===> (1,2) means 1 index and 2 indexs\n",
    "print(result2)\n",
    "print('*' * 14)\n",
    "\n",
    "result3 = x[2:4, [1]]\n",
    "print(result3)"
   ]
  },
  {
   "cell_type": "markdown",
   "id": "334729ac",
   "metadata": {},
   "source": [
    "### 2) Boolean Indexing"
   ]
  },
  {
   "cell_type": "code",
   "execution_count": 122,
   "id": "87fae7df",
   "metadata": {},
   "outputs": [
    {
     "name": "stdout",
     "output_type": "stream",
     "text": [
      "Greater than 5 is [ 6  7  8  9 10 11]\n"
     ]
    }
   ],
   "source": [
    "x = np.array([[ 0,  1,  2],[ 3,  4,  5],[ 6,  7,  8],[ 9, 10, 11]]) \n",
    "\n",
    "result = x[x>5]\n",
    "print('Greater than 5 is' , result)"
   ]
  },
  {
   "cell_type": "code",
   "execution_count": 124,
   "id": "51c520c1",
   "metadata": {},
   "outputs": [
    {
     "data": {
      "text/plain": [
       "array([1., 2., 3., 4., 5.])"
      ]
     },
     "execution_count": 124,
     "metadata": {},
     "output_type": "execute_result"
    }
   ],
   "source": [
    "a = np.array([np.nan, 1,2,np.nan,3,4,5]) \n",
    "result = a[~np.isnan(a)] ## ~ indicates opposite of logic (Nan==> Not a Number)\n",
    "result"
   ]
  },
  {
   "cell_type": "markdown",
   "id": "78f6590c",
   "metadata": {},
   "source": [
    "### BroadCasting\n",
    "### Rules\n",
    "1) Size of each Dimension should be same <br>\n",
    "2) Size of one of the dimension should be 1\n",
    "\n",
    "### To be followed\n",
    "1) If the two arrays differ in their number of dimensions, the shape of the one with fewer dimensionis padded with ones on its leading side(Left Side) <br>\n",
    "2) If the shape of two arrays doesnot match in any dimension, the array with shape equal to 1 in that dimension is stretched to match the other shape <br> \n",
    "3) If in any dimension the sizes disagree and neither equal to 1, an error is raised\n",
    "\n"
   ]
  },
  {
   "cell_type": "markdown",
   "id": "2c843896",
   "metadata": {},
   "source": [
    "### Example 1"
   ]
  },
  {
   "cell_type": "code",
   "execution_count": null,
   "id": "c304a847",
   "metadata": {},
   "outputs": [],
   "source": [
    "## Example\n",
    "x.shape == (2,3)\n",
    "\n",
    "y.shape == (2,3) ## Compatible\n",
    "y.shape == (2,1) ## Compatible\n",
    "y.shape == (1,3) ## Compatible\n",
    "y.shape == (3,)  ## Compatible ====> bcz rules number 1 will applied in it and becomes (1,3) where 3 equals 3 and 2 equals 1 (1 will euqal to any value)\n",
    "\n",
    "## The output will be results in (2,3) shape ====> With higher dimension\n",
    "\n",
    "y.shape == (3,2) ## Not Compatible ====> bcz 2 not equals to 3 and 3 not equals to 2\n",
    "y.shap == (2,)  ## Not Compatible  ====> bcz we have to add 1 into the left size (Rule 1 ) Since gives error\n",
    " "
   ]
  },
  {
   "cell_type": "markdown",
   "id": "e0b38ecf",
   "metadata": {},
   "source": [
    "### Example 2"
   ]
  },
  {
   "cell_type": "code",
   "execution_count": null,
   "id": "b4813a7a",
   "metadata": {},
   "outputs": [],
   "source": [
    "x.shape == (1000, 256, 256, 256)\n",
    "\n",
    "y.shape == (1000, 256, 256, 256) ## Compatible\n",
    "y.shape == (1000, 1, 256. 1) ## Compatible\n",
    "y.shape == (256,1) ## Compatible ==> Rule number 2 and becomes ==> (1,1,256,1)\n",
    "\n",
    "y.shape == (1000, 256, 256) ## Not compatible"
   ]
  },
  {
   "cell_type": "markdown",
   "id": "7204989c",
   "metadata": {},
   "source": [
    "### Pratical Example\n",
    "For Rule number 1"
   ]
  },
  {
   "cell_type": "code",
   "execution_count": 152,
   "id": "c66dfca6",
   "metadata": {},
   "outputs": [
    {
     "name": "stdout",
     "output_type": "stream",
     "text": [
      "(2, 3)\n",
      "2\n",
      "**********\n",
      "(3,)\n",
      "1\n",
      "Result is: \n"
     ]
    },
    {
     "data": {
      "text/plain": [
       "array([[2, 4, 6],\n",
       "       [2, 4, 6]])"
      ]
     },
     "execution_count": 152,
     "metadata": {},
     "output_type": "execute_result"
    }
   ],
   "source": [
    "a = np.array([[1,2,3], [1,2,3]])\n",
    "print(a.shape)\n",
    "print(a.ndim)\n",
    "\n",
    "print('*' * 10)\n",
    "\n",
    "b = np.array([1,2,3])\n",
    "print(b.shape)\n",
    "print(b.ndim)\n",
    "\n",
    "print('Result is: ')\n",
    "\n",
    "result = a + b\n",
    "result"
   ]
  },
  {
   "cell_type": "markdown",
   "id": "14f53a53",
   "metadata": {},
   "source": [
    "For rule number 2"
   ]
  },
  {
   "cell_type": "code",
   "execution_count": 158,
   "id": "4b7f470a",
   "metadata": {},
   "outputs": [
    {
     "name": "stdout",
     "output_type": "stream",
     "text": [
      "(2, 3)\n",
      "2\n",
      "**********\n",
      "(1, 3)\n",
      "2\n",
      "Result: \n"
     ]
    },
    {
     "data": {
      "text/plain": [
       "array([[ 8, 10, 12],\n",
       "       [ 9, 11, 13]])"
      ]
     },
     "execution_count": 158,
     "metadata": {},
     "output_type": "execute_result"
    }
   ],
   "source": [
    "a = np.array([[1,2,3],[2,3,4]])\n",
    "\n",
    "print(a.shape)\n",
    "print(a.ndim)\n",
    "\n",
    "print('*' * 10)\n",
    "\n",
    "b = np.array([[7,8,9]])\n",
    "print(b.shape)\n",
    "print(b.ndim)\n",
    "\n",
    "print('Result: ')\n",
    "\n",
    "result = a + b\n",
    "result"
   ]
  },
  {
   "cell_type": "code",
   "execution_count": null,
   "id": "193230c7",
   "metadata": {},
   "outputs": [],
   "source": []
  },
  {
   "cell_type": "code",
   "execution_count": null,
   "id": "fb511492",
   "metadata": {},
   "outputs": [],
   "source": []
  },
  {
   "cell_type": "code",
   "execution_count": null,
   "id": "e124798d",
   "metadata": {},
   "outputs": [],
   "source": []
  },
  {
   "cell_type": "code",
   "execution_count": null,
   "id": "04959c82",
   "metadata": {},
   "outputs": [],
   "source": []
  },
  {
   "cell_type": "markdown",
   "id": "989f0b75",
   "metadata": {},
   "source": [
    "### Numpy Iterating over array\n",
    "Iterating in numpy array  <br>\n",
    "<b>numpy.nditer</b>"
   ]
  },
  {
   "cell_type": "code",
   "execution_count": 2,
   "id": "fc215d1e",
   "metadata": {},
   "outputs": [
    {
     "data": {
      "text/plain": [
       "array([[ 0,  5, 10, 15],\n",
       "       [20, 25, 30, 35],\n",
       "       [40, 45, 50, 55]])"
      ]
     },
     "execution_count": 2,
     "metadata": {},
     "output_type": "execute_result"
    }
   ],
   "source": [
    "a = np.arange(0,60,5)\n",
    "a = a.reshape(3,4)\n",
    "a"
   ]
  },
  {
   "cell_type": "code",
   "execution_count": 6,
   "id": "39295036",
   "metadata": {},
   "outputs": [
    {
     "name": "stdout",
     "output_type": "stream",
     "text": [
      "0 5 10 15 20 25 30 35 40 45 50 55 "
     ]
    }
   ],
   "source": [
    "for x in np.nditer(a):\n",
    "    print(x, end=\" \")"
   ]
  },
  {
   "cell_type": "markdown",
   "id": "9dc6ab9d",
   "metadata": {},
   "source": [
    "### Transponse and nditer"
   ]
  },
  {
   "cell_type": "code",
   "execution_count": 16,
   "id": "abb154e7",
   "metadata": {},
   "outputs": [
    {
     "name": "stdout",
     "output_type": "stream",
     "text": [
      "[[ 0  5 10 15]\n",
      " [20 25 30 35]\n",
      " [40 45 50 55]]\n",
      "**********\n",
      "Transpose of b is:\n",
      " [[ 0 20 40]\n",
      " [ 5 25 45]\n",
      " [10 30 50]\n",
      " [15 35 55]]\n",
      "0 5 10 15 20 25 30 35 40 45 50 55 "
     ]
    }
   ],
   "source": [
    "a = np.arange(0,60,5)\n",
    "a = a.reshape(3,4)\n",
    "\n",
    "print(a)\n",
    "print('*' * 10)\n",
    "\n",
    "b = a.T\n",
    "print('Transpose of b is:\\n', b)\n",
    "\n",
    "for x in np.nditer(b):\n",
    "    print(x, end=\" \")"
   ]
  },
  {
   "cell_type": "markdown",
   "id": "aed819bc",
   "metadata": {},
   "source": [
    "### Iteration Order\n",
    "'C', 'F' and 'K'  (Default is K)"
   ]
  },
  {
   "cell_type": "code",
   "execution_count": 41,
   "id": "c2d8b0ff",
   "metadata": {},
   "outputs": [
    {
     "name": "stdout",
     "output_type": "stream",
     "text": [
      "Transpose of a \n",
      " [[ 0 20 40]\n",
      " [ 5 25 45]\n",
      " [10 30 50]\n",
      " [15 35 55]]\n",
      "**********\n",
      "For Default order K\n",
      "0 5 10 15 20 25 30 35 40 45 50 55 \n",
      "\n",
      "**********\n",
      "For order C\n",
      "C is \n",
      " [[ 0 20 40]\n",
      " [ 5 25 45]\n",
      " [10 30 50]\n",
      " [15 35 55]]\n",
      "Order C\n",
      "0 20 40 5 25 45 10 30 50 15 35 55 \n",
      "\n",
      "F is: \n",
      " [[ 0 20 40]\n",
      " [ 5 25 45]\n",
      " [10 30 50]\n",
      " [15 35 55]]\n",
      "Sorted in F Style order\n",
      "0 5 10 15 20 25 30 35 40 45 50 55 "
     ]
    }
   ],
   "source": [
    "a = np.arange(0,60,5)\n",
    "a = a.reshape(3,4)\n",
    "\n",
    "## Transpose\n",
    "a = a.T\n",
    "print('Transpose of a \\n', a)\n",
    "\n",
    "print('*' * 10)\n",
    "\n",
    "\n",
    "## for K (Default)\n",
    "print('For Default order K')\n",
    "for k in np.nditer(a,order='K'):\n",
    "    print(k, end=\" \")\n",
    "    \n",
    "print('\\n')\n",
    "print('*' * 10)\n",
    "    \n",
    "## for C (Sorted in C style order)\n",
    "\n",
    "print('For order C')\n",
    "c = a.copy(order='C')\n",
    "print('C is \\n', c)\n",
    "\n",
    "print('Order C')\n",
    "for c in np.nditer(c):\n",
    "    print(c, end=\" \")\n",
    "    \n",
    "print('\\n')\n",
    "\n",
    "f = a.copy(order='F')\n",
    "print('F is: \\n', f)\n",
    "print('Sorted in F Style order')\n",
    "\n",
    "\n",
    "for f in np.nditer(f):\n",
    "    print(f,  end=\" \") ### Sorted in vertically while other order C and k sorted in Horizontally\n"
   ]
  },
  {
   "cell_type": "code",
   "execution_count": null,
   "id": "aa5af449",
   "metadata": {},
   "outputs": [],
   "source": []
  },
  {
   "cell_type": "code",
   "execution_count": 55,
   "id": "e2e07c49",
   "metadata": {},
   "outputs": [
    {
     "name": "stdout",
     "output_type": "stream",
     "text": [
      "Original array is: \n",
      " [[ 0  5 10]\n",
      " [15 20 25]\n",
      " [30 35 40]\n",
      " [45 50 55]]\n",
      "\n",
      "\n",
      "Sorted in C style Order:\n",
      "0 5 10 15 20 25 30 35 40 45 50 55 \n",
      "\n",
      "Sorted in F style order:\n",
      "0 15 30 45 5 20 35 50 10 25 40 55 "
     ]
    }
   ],
   "source": [
    "a = np.arange(0,60,5)\n",
    "a = a.reshape(4,3)\n",
    "\n",
    "print('Original array is: \\n', a)\n",
    "print('\\n')\n",
    "\n",
    "print('Sorted in C style Order:')\n",
    "\n",
    "for c in np.nditer(a, order='C'):\n",
    "    print(c, end=\" \")\n",
    "\n",
    "print('\\n')\n",
    "print('Sorted in F style order:')\n",
    "\n",
    "for f in np.nditer(a, order='F'):\n",
    "    print(f, end=\" \")"
   ]
  },
  {
   "cell_type": "markdown",
   "id": "e6380fc2",
   "metadata": {},
   "source": [
    "### Modifying Array values\n",
    "using parameter called <b> op_flags </b> it's default value is ['read_only']"
   ]
  },
  {
   "cell_type": "code",
   "execution_count": 60,
   "id": "d63fc8c1",
   "metadata": {},
   "outputs": [
    {
     "name": "stdout",
     "output_type": "stream",
     "text": [
      "Original array is: \n",
      " [[ 0  5 10 15]\n",
      " [20 25 30 35]\n",
      " [40 45 50 55]]\n",
      "Modified array is: \n",
      " [[  0  10  20  30]\n",
      " [ 40  50  60  70]\n",
      " [ 80  90 100 110]]\n"
     ]
    }
   ],
   "source": [
    "a = np.arange(0,60,5)\n",
    "a = a.reshape(3,4)\n",
    "print('Original array is: \\n', a)\n",
    "\n",
    "for x in np.nditer(a,op_flags= ['readwrite']):\n",
    "    x[...] = 2*x\n",
    "    \n",
    "    \n",
    "print('Modified array is: \\n', a)"
   ]
  },
  {
   "cell_type": "markdown",
   "id": "2611ae49",
   "metadata": {},
   "source": [
    "### BroadCasting Iteration\n",
    "Assuming 1st array of size (3,4) and second array of size (1,4) <br>\n",
    "<b> Example </b>"
   ]
  },
  {
   "cell_type": "code",
   "execution_count": 76,
   "id": "e701ec7f",
   "metadata": {},
   "outputs": [
    {
     "name": "stdout",
     "output_type": "stream",
     "text": [
      "First array is: \n",
      " [[ 0  5 10 15]\n",
      " [20 25 30 35]\n",
      " [40 45 50 55]]\n",
      "\n",
      "\n",
      "Second array is: \n",
      " [1 2 3 4]\n",
      "\n",
      "\n",
      "Modified array is: \n",
      "0:1 5:2 10:3 15:4 20:1 25:2 30:3 35:4 40:1 45:2 50:3 55:4 "
     ]
    }
   ],
   "source": [
    "a = np.arange(0,60,5)\n",
    "a = a.reshape(3,4)\n",
    "\n",
    "print('First array is: \\n', a)\n",
    "print('\\n')\n",
    "b = np.array([1,2,3,4], dtype=int)\n",
    "\n",
    "print('Second array is: \\n', b)\n",
    "print('\\n')\n",
    "\n",
    "print('Modified array is: ')\n",
    "\n",
    "for x, y in np.nditer([a,b]):\n",
    "#     print(x,y, end = \"   \")\n",
    "    print(\"%d:%d\" % (x,y), end=\" \")"
   ]
  },
  {
   "cell_type": "markdown",
   "id": "30d4f674",
   "metadata": {},
   "source": [
    "### Mathematical Functions\n",
    "\n",
    "Trigonometry functions"
   ]
  },
  {
   "cell_type": "code",
   "execution_count": 83,
   "id": "f525a8c8",
   "metadata": {},
   "outputs": [
    {
     "name": "stdout",
     "output_type": "stream",
     "text": [
      "Sin value of angle in array: \n",
      "[0.         0.5        0.70710678 0.8660254  1.        ]\n",
      "\n",
      "\n",
      "Cos value of angle in array: \n",
      "[1.00000000e+00 8.66025404e-01 7.07106781e-01 5.00000000e-01\n",
      " 6.12323400e-17]\n"
     ]
    }
   ],
   "source": [
    "a = np.array([0,30,45,60,90])\n",
    "\n",
    "print('Sin value of angle in array: ')\n",
    "result1 = np.sin(a*np.pi/180)\n",
    "print(result1)\n",
    "\n",
    "print('\\n')\n",
    "print('Cos value of angle in array: ')\n",
    "result2 = np.cos(a*np.pi/180)\n",
    "print(result2)"
   ]
  },
  {
   "cell_type": "markdown",
   "id": "726811f4",
   "metadata": {},
   "source": [
    "arcsin, arcos, arctan functions returns the inverse of sin, cos and tan of given angles"
   ]
  },
  {
   "cell_type": "code",
   "execution_count": 97,
   "id": "14b9ad58",
   "metadata": {},
   "outputs": [
    {
     "name": "stdout",
     "output_type": "stream",
     "text": [
      "Angles are:  [ 0 30 45 60 90]\n",
      "Sine Values are:  [0.         0.5        0.70710678 0.8660254  1.        ]\n",
      "\n",
      "\n",
      "compute the inverse of sin: \n",
      "[0.         0.52359878 0.78539816 1.04719755 1.57079633]\n",
      "\n",
      "\n",
      "checking result by converting to degree: \n",
      "[ 0. 30. 45. 60. 90.]\n"
     ]
    }
   ],
   "source": [
    "a = np.array([0,30,45,60,90])\n",
    "print('Angles are: ', a)\n",
    "sin = np.sin(a*np.pi/180)\n",
    "print('Sine Values are: ', sin)\n",
    "\n",
    "print('\\n')\n",
    "print('compute the inverse of sin: ')\n",
    "inv_sin = np.arcsin(sin)\n",
    "print(inv_sin)\n",
    "\n",
    "print('\\n')\n",
    "print('checking result by converting to degree: ')\n",
    "deree_sin = np.degrees(inv_sin)\n",
    "print(deree_sin)"
   ]
  },
  {
   "cell_type": "markdown",
   "id": "9b4ddb11",
   "metadata": {},
   "source": [
    "### Functions for rounding\n",
    "syntax===> <b>np.around(a, decimals) ais input data whereas decimals is 0 by default <br>\n",
    "Example:"
   ]
  },
  {
   "cell_type": "code",
   "execution_count": 115,
   "id": "dc37d588",
   "metadata": {},
   "outputs": [
    {
     "name": "stdout",
     "output_type": "stream",
     "text": [
      "Original array is: \n",
      " [  1.      5.55  123.      0.567  25.432]\n",
      "\n",
      "\n",
      "After rounding\n",
      "[  1.   6. 123.   1.  25.]\n",
      "[  1.     5.55 123.     0.57  25.43]\n",
      "[  0.  10. 120.   0.  30.]\n"
     ]
    }
   ],
   "source": [
    "a = np.array([1.0,5.55,123,0.567,25.432])\n",
    "\n",
    "print('Original array is: \\n', a)\n",
    "print('\\n')\n",
    "\n",
    "print('After rounding')\n",
    "print(np.around(a))\n",
    "print(np.around(a, decimals=2))\n",
    "print(np.around(a, decimals=-1))"
   ]
  },
  {
   "cell_type": "markdown",
   "id": "ea82f2d6",
   "metadata": {},
   "source": [
    "### np.around(a, decimals=-1) ??"
   ]
  },
  {
   "cell_type": "code",
   "execution_count": null,
   "id": "54433036",
   "metadata": {},
   "outputs": [],
   "source": []
  },
  {
   "cell_type": "code",
   "execution_count": 49,
   "id": "37608380",
   "metadata": {},
   "outputs": [
    {
     "name": "stdout",
     "output_type": "stream",
     "text": [
      "[  1.      5.55  123.      0.567  25.432]\n",
      "[  0.  10. 120.   0.  30.]\n"
     ]
    }
   ],
   "source": [
    "aa = np.array([1.0,5.55,123,0.567,25.432])\n",
    "print(aa)\n",
    "print(np.around(aa, decimals=-1))\n"
   ]
  },
  {
   "cell_type": "code",
   "execution_count": null,
   "id": "d89f6915",
   "metadata": {},
   "outputs": [],
   "source": []
  },
  {
   "cell_type": "code",
   "execution_count": null,
   "id": "10002951",
   "metadata": {},
   "outputs": [],
   "source": []
  },
  {
   "cell_type": "code",
   "execution_count": null,
   "id": "69fe0cc4",
   "metadata": {},
   "outputs": [],
   "source": []
  },
  {
   "cell_type": "markdown",
   "id": "b8e6dc1d",
   "metadata": {},
   "source": [
    "### Numpy.floor\n",
    "The function returns  the largest integer not greater than the input parameter"
   ]
  },
  {
   "cell_type": "code",
   "execution_count": 117,
   "id": "7d5465d2",
   "metadata": {},
   "outputs": [
    {
     "name": "stdout",
     "output_type": "stream",
     "text": [
      "[-1.7  1.5 -0.2  0.6 10. ]\n",
      "Modified arry is: \n"
     ]
    },
    {
     "data": {
      "text/plain": [
       "array([-2.,  1., -1.,  0., 10.])"
      ]
     },
     "execution_count": 117,
     "metadata": {},
     "output_type": "execute_result"
    }
   ],
   "source": [
    "a = np.array([-1.7,1.5,-0.2,0.6,10])\n",
    "print(a)\n",
    "\n",
    "print('Modified arry is: ')\n",
    "modified = np.floor(a)\n",
    "modified"
   ]
  },
  {
   "cell_type": "markdown",
   "id": "9609e461",
   "metadata": {},
   "source": [
    "### Numpu.celi"
   ]
  },
  {
   "cell_type": "code",
   "execution_count": 121,
   "id": "bdbdb2d8",
   "metadata": {},
   "outputs": [
    {
     "name": "stdout",
     "output_type": "stream",
     "text": [
      "[-1.7  1.5 -0.2  0.6 10. ]\n"
     ]
    },
    {
     "data": {
      "text/plain": [
       "array([-1.,  2., -0.,  1., 10.])"
      ]
     },
     "execution_count": 121,
     "metadata": {},
     "output_type": "execute_result"
    }
   ],
   "source": [
    "a = np.array([-1.7,1.5,-0.2,0.6,10])\n",
    "print(a)\n",
    "\n",
    "celi_modified = np.ceil(a)\n",
    "celi_modified"
   ]
  },
  {
   "cell_type": "code",
   "execution_count": 122,
   "id": "b50e2b41",
   "metadata": {},
   "outputs": [
    {
     "data": {
      "text/plain": [
       "False"
      ]
     },
     "execution_count": 122,
     "metadata": {},
     "output_type": "execute_result"
    }
   ],
   "source": [
    "-0.2 > 0"
   ]
  },
  {
   "cell_type": "markdown",
   "id": "d9b35663",
   "metadata": {},
   "source": [
    "### Main difference between floor and ceil is\n",
    "\n",
    "5(floor)----------5.5----------6(ceil) <br>\n",
    "floor looks for the smallest value from the user input whereas ceil looks for the higher value from the user input"
   ]
  },
  {
   "cell_type": "code",
   "execution_count": 128,
   "id": "dc423c64",
   "metadata": {},
   "outputs": [
    {
     "name": "stdout",
     "output_type": "stream",
     "text": [
      "-6.0\n",
      "-5.0\n",
      "-5.0\n"
     ]
    }
   ],
   "source": [
    "print(np.floor(-5.5))\n",
    "print(np.ceil(-5.5))\n",
    "print(np.trunc(-5.5)) ## Trunc always ignores after decimal"
   ]
  },
  {
   "cell_type": "code",
   "execution_count": null,
   "id": "21b1fac9",
   "metadata": {},
   "outputs": [],
   "source": []
  },
  {
   "cell_type": "markdown",
   "id": "7ed7c6c3",
   "metadata": {},
   "source": [
    "### Arithmetic operations\n",
    "Input array performing arithmetic operations like add(), subtract(), multiply() and divide() must be either of the same shape or should confirm to array broadcasting rules"
   ]
  },
  {
   "cell_type": "code",
   "execution_count": 178,
   "id": "a38111e2",
   "metadata": {},
   "outputs": [
    {
     "name": "stdout",
     "output_type": "stream",
     "text": [
      "[[0. 1. 2.]\n",
      " [3. 4. 5.]\n",
      " [6. 7. 8.]]\n",
      "Shape is:  (3, 3)\n",
      "[0. 1. 2.]\n",
      "Shape of b is:  (3,)\n",
      "Add [[ 0.  2.  4.]\n",
      " [ 3.  5.  7.]\n",
      " [ 6.  8. 10.]]\n",
      "Subtract [[0. 0. 0.]\n",
      " [3. 3. 3.]\n",
      " [6. 6. 6.]]\n",
      "Multiply [[ 0.  1.  4.]\n",
      " [ 0.  4. 10.]\n",
      " [ 0.  7. 16.]]\n",
      "Divide [[nan 1.  1. ]\n",
      " [inf 4.  2.5]\n",
      " [inf 7.  4. ]]\n",
      "Sum of array is:  36.0\n"
     ]
    },
    {
     "name": "stderr",
     "output_type": "stream",
     "text": [
      "C:\\Users\\Dell\\AppData\\Local\\Temp/ipykernel_7232/475930716.py:12: RuntimeWarning: divide by zero encountered in true_divide\n",
      "  print('Divide', np.divide(a,b))\n",
      "C:\\Users\\Dell\\AppData\\Local\\Temp/ipykernel_7232/475930716.py:12: RuntimeWarning: invalid value encountered in true_divide\n",
      "  print('Divide', np.divide(a,b))\n"
     ]
    }
   ],
   "source": [
    "a = np.arange(9,dtype=float).reshape(3,3)\n",
    "print(a)\n",
    "print('Shape is: ', a.shape)\n",
    "\n",
    "b = np.arange(3,dtype=float)\n",
    "print(b)\n",
    "print('Shape of b is: ',b.shape)\n",
    "\n",
    "print('Add', np.add(a,b))\n",
    "print('Subtract', np.subtract(a,b))\n",
    "print('Multiply', np.multiply(a,b))\n",
    "print('Divide', np.divide(a,b))\n",
    "\n",
    "\n",
    "print('Sum of array is: ', np.sum(a))\n",
    "\n",
    "\n"
   ]
  },
  {
   "cell_type": "code",
   "execution_count": null,
   "id": "81a0690c",
   "metadata": {},
   "outputs": [],
   "source": []
  },
  {
   "cell_type": "markdown",
   "id": "bed01092",
   "metadata": {},
   "source": [
    "### Numpy.reciprocal\n",
    "Means if the user input is 3 then reciporcal ====> 1/3, if user input is 2/3 reciporcal is =====> 3/2"
   ]
  },
  {
   "cell_type": "code",
   "execution_count": 164,
   "id": "ac136dfb",
   "metadata": {},
   "outputs": [
    {
     "name": "stdout",
     "output_type": "stream",
     "text": [
      "0.3921568627450981\n",
      "0.3921568627450981\n"
     ]
    }
   ],
   "source": [
    "print(np.reciprocal(2.55))\n",
    "print(1/2.55)\n",
    "## Produce the same results\n"
   ]
  },
  {
   "cell_type": "code",
   "execution_count": null,
   "id": "e8862b4e",
   "metadata": {},
   "outputs": [],
   "source": []
  },
  {
   "cell_type": "code",
   "execution_count": 160,
   "id": "2c50565d",
   "metadata": {},
   "outputs": [
    {
     "name": "stdout",
     "output_type": "stream",
     "text": [
      "[10 20 30]\n",
      "[3 5 7]\n",
      "Power is:  [100 400 900]\n",
      "Mode is:  [1 0 2]\n"
     ]
    }
   ],
   "source": [
    "a = np.array([10,20,30])\n",
    "b = np.array([3,5,7])\n",
    "print(a)\n",
    "print(b)\n",
    "\n",
    "print('Power is: ', np.power(a,2))\n",
    "print('Mode is: ', np.mod(a,b)) ## Returns Remainder"
   ]
  },
  {
   "cell_type": "code",
   "execution_count": null,
   "id": "9d19299b",
   "metadata": {},
   "outputs": [],
   "source": []
  },
  {
   "cell_type": "markdown",
   "id": "8a0c76ec",
   "metadata": {},
   "source": [
    "### Numpy Statistical Functions"
   ]
  },
  {
   "cell_type": "code",
   "execution_count": 3,
   "id": "e867a560",
   "metadata": {},
   "outputs": [
    {
     "name": "stdout",
     "output_type": "stream",
     "text": [
      "[[3 7 5]\n",
      " [8 4 3]\n",
      " [2 4 9]]\n",
      "\n",
      "\n",
      "Entire array Min Value: 2\n",
      "Columnn wise min value: [2 4 3]\n",
      "Row wise max value [7 8 9]\n",
      "\n",
      "\n",
      "Mean in whole array:  5.0\n",
      "Mean in row array:  [5. 5. 5.]\n",
      "\n",
      "\n",
      "Std in whole array:  2.309401076758503\n",
      "Std in row array:  [1.63299316 2.1602469  2.94392029]\n",
      "\n",
      "\n",
      "Variance in whole array:  5.333333333333333\n",
      "Variance in column array:  [6.88888889 2.         6.22222222]\n",
      "\n",
      "\n",
      "Percentile in whole array:  3.0\n"
     ]
    }
   ],
   "source": [
    "a = np.array([[3,7,5],[8,4,3],[2,4,9]])\n",
    "print(a)\n",
    "print('\\n')\n",
    "\n",
    "print('Entire array Min Value:', np.amin(a))\n",
    "print('Columnn wise min value:', np.amin(a,axis=0))\n",
    "print('Row wise max value', np.amax(a,axis=1))\n",
    "\n",
    "print('\\n')\n",
    "print('Mean in whole array: ', np.mean(a))\n",
    "print('Mean in row array: ', np.mean(a,axis=1))\n",
    "\n",
    "print('\\n')\n",
    "print('Std in whole array: ', np.std(a))\n",
    "print('Std in row array: ', np.std(a,axis=1))\n",
    "\n",
    "print('\\n')\n",
    "print('Variance in whole array: ', np.var(a))\n",
    "print('Variance in column array: ', np.var(a, axis=0))\n",
    "\n",
    "\n",
    "print('\\n')\n",
    "print('Percentile in whole array: ', np.percentile(a,25))\n",
    "\n",
    "\n",
    "\n"
   ]
  },
  {
   "cell_type": "markdown",
   "id": "0182f1fc",
   "metadata": {},
   "source": [
    "### numpy.ptp\n",
    "peak to peak value (Means the difference between  lowest value and highest value in the axis)"
   ]
  },
  {
   "cell_type": "code",
   "execution_count": 176,
   "id": "522ef384",
   "metadata": {},
   "outputs": [
    {
     "name": "stdout",
     "output_type": "stream",
     "text": [
      "[[3 7 5]\n",
      " [8 4 3]\n",
      " [2 4 9]]\n",
      "7\n",
      "[4 5 7]\n",
      "[6 3 6]\n"
     ]
    }
   ],
   "source": [
    "a = np.array([[3,7,5],[8,4,3],[2,4,9]]) \n",
    "print(a)\n",
    "\n",
    "print(np.ptp(a))\n",
    "print(np.ptp(a,axis=1))\n",
    "print(np.ptp(a, axis=0))"
   ]
  },
  {
   "cell_type": "markdown",
   "id": "743a149d",
   "metadata": {},
   "source": [
    "### numpy.average\n",
    "Suppose we have array [1,2,3,4] and corrseponding weights [4,3,2,1] the weighted average is calculated  by adding the produt of corresponding elements and dividing the sum by the sum of weights <br>\n",
    "<b>Example:</b> \n",
    "<b>weighted average is = </b> \n",
    "1.4+2.3+3.2+4.1)/(4+3+2+1)"
   ]
  },
  {
   "cell_type": "code",
   "execution_count": 6,
   "id": "b7a3d639",
   "metadata": {},
   "outputs": [
    {
     "name": "stdout",
     "output_type": "stream",
     "text": [
      "Average is:  2.0\n",
      "If returned= True then it returns the sum of weights: \n",
      "(2.0, 10.0)\n"
     ]
    }
   ],
   "source": [
    "a = np.array([1,2,3,4])\n",
    "wts = np.array([4,3,2,1])\n",
    "\n",
    "## Applying average function\n",
    "average_func = np.average(a,weights=wts)\n",
    "print('Average is: ',average_func )\n",
    "\n",
    "\n",
    "print('If returned= True then it returns the sum of weights: ')\n",
    "print(np.average(a,weights=wts,returned=True))"
   ]
  },
  {
   "cell_type": "markdown",
   "id": "0e03742c",
   "metadata": {},
   "source": [
    "### multidimension"
   ]
  },
  {
   "cell_type": "code",
   "execution_count": 10,
   "id": "fc7321f3",
   "metadata": {},
   "outputs": [
    {
     "name": "stdout",
     "output_type": "stream",
     "text": [
      "[[0 1]\n",
      " [2 3]\n",
      " [4 5]]\n",
      "(array([0.625, 2.625, 4.625]), array([8., 8., 8.]))\n"
     ]
    }
   ],
   "source": [
    "a = np.arange(6).reshape(3,2)\n",
    "print(a)\n",
    "wt = np.array([3,5])\n",
    "\n",
    "print(np.average(a, weights=wt, axis=1, returned=True))\n",
    "## look down"
   ]
  },
  {
   "cell_type": "code",
   "execution_count": 12,
   "id": "0aa77c8a",
   "metadata": {},
   "outputs": [
    {
     "data": {
      "text/plain": [
       "0.625"
      ]
     },
     "execution_count": 12,
     "metadata": {},
     "output_type": "execute_result"
    }
   ],
   "source": [
    "## Operation will be performed like this (8,8,8) means (5+3=8)\n",
    "(0*3 + 1*5) / 8"
   ]
  },
  {
   "cell_type": "code",
   "execution_count": null,
   "id": "c9d5bf64",
   "metadata": {},
   "outputs": [],
   "source": []
  },
  {
   "cell_type": "markdown",
   "id": "0228b8ce",
   "metadata": {},
   "source": [
    "### Numpy Sort, Search and Counting Functions\n",
    "numpy.sort"
   ]
  },
  {
   "cell_type": "code",
   "execution_count": 16,
   "id": "8a90f1f4",
   "metadata": {},
   "outputs": [
    {
     "name": "stdout",
     "output_type": "stream",
     "text": [
      "[[3 9 7]\n",
      " [2 4 1]]\n",
      "Applying sorting function: \n",
      "[[3 7 9]\n",
      " [1 2 4]]\n",
      "Axis = 0\n",
      "[[2 4 1]\n",
      " [3 9 7]]\n"
     ]
    }
   ],
   "source": [
    "a = np.array([[3,9,7], [2,4,1]])\n",
    "print(a)\n",
    "\n",
    "print('Applying sorting function: ')\n",
    "print(np.sort(a)) ## Default axis = 1 (Based on rows)\n",
    "\n",
    "print('Axis = 0')\n",
    "print(np.sort(a,axis=0))"
   ]
  },
  {
   "cell_type": "code",
   "execution_count": 17,
   "id": "a5c6f1a4",
   "metadata": {},
   "outputs": [
    {
     "data": {
      "text/plain": [
       "array([['21', 'raju'],\n",
       "       ['22', 'ajaya'],\n",
       "       ['32', 'Zyan']], dtype='<U11')"
      ]
     },
     "execution_count": 17,
     "metadata": {},
     "output_type": "execute_result"
    }
   ],
   "source": [
    "## Order parameter in sort functions\n",
    "a = np.array([(\"raju\",21),(\"ajaya\", 22), (\"Zyan\", 32)])\n",
    "np.sort(a)"
   ]
  },
  {
   "cell_type": "code",
   "execution_count": 19,
   "id": "a3724276",
   "metadata": {},
   "outputs": [
    {
     "name": "stdout",
     "output_type": "stream",
     "text": [
      "order by name: \n",
      "[(b'Zyan', 32) (b'ajaya', 22) (b'raju', 21)]\n"
     ]
    }
   ],
   "source": [
    "dt = np.dtype([('name', 'S10'), ('age', int)])\n",
    "a = np.array([(\"raju\",21),(\"ajaya\", 22), (\"Zyan\", 32)], dtype=dt)\n",
    "\n",
    "print('order by name: ')\n",
    "print(np.sort(a,order='name'))"
   ]
  },
  {
   "cell_type": "code",
   "execution_count": 28,
   "id": "0f2704e5",
   "metadata": {},
   "outputs": [
    {
     "name": "stdout",
     "output_type": "stream",
     "text": [
      "[(b'zyan', 21) (b'bibash', 25) (b'ravi', 17) (b'amar', 27)]\n",
      "[(b'amar', 27) (b'bibash', 25) (b'ravi', 17) (b'zyan', 21)]\n"
     ]
    }
   ],
   "source": [
    "## order using name\n",
    "dtt = np.dtype([('name', 'S10'), ('age', int)])\n",
    "a = np.array([(\"zyan\",21),(\"bibash\",25),(\"ravi\", 17), (\"amar\",27)], dtype = dtt) \n",
    "print(a)\n",
    "\n",
    "print(np.sort(a, order = 'name'))"
   ]
  },
  {
   "cell_type": "markdown",
   "id": "c8e466e9",
   "metadata": {},
   "source": [
    "### numpy.argsort\n",
    "Return index according to sorting\n",
    "\n",
    "<b>Example: </b> ===> [3,1,2] ==>Index(Result) [1,2,0]"
   ]
  },
  {
   "cell_type": "code",
   "execution_count": 30,
   "id": "99e0a977",
   "metadata": {},
   "outputs": [
    {
     "data": {
      "text/plain": [
       "array([1, 2, 0], dtype=int64)"
      ]
     },
     "execution_count": 30,
     "metadata": {},
     "output_type": "execute_result"
    }
   ],
   "source": [
    "x = np.array([3,1,2])\n",
    "\n",
    "np.argsort(x)"
   ]
  },
  {
   "cell_type": "code",
   "execution_count": 32,
   "id": "ee3e16ef",
   "metadata": {},
   "outputs": [
    {
     "data": {
      "text/plain": [
       "array([1, 2, 0, 3, 4], dtype=int64)"
      ]
     },
     "execution_count": 32,
     "metadata": {},
     "output_type": "execute_result"
    }
   ],
   "source": [
    "x = np.array([3,1,2,5,9])\n",
    "np.argsort(x)"
   ]
  },
  {
   "cell_type": "markdown",
   "id": "3128ba6a",
   "metadata": {},
   "source": [
    "### argmax and argmin"
   ]
  },
  {
   "cell_type": "code",
   "execution_count": 11,
   "id": "239504a5",
   "metadata": {},
   "outputs": [
    {
     "name": "stdout",
     "output_type": "stream",
     "text": [
      "Arg Max is:  3\n",
      "Arg Min is :  0\n"
     ]
    },
    {
     "data": {
      "text/plain": [
       "array([1, 5, 2, 9, 3])"
      ]
     },
     "execution_count": 11,
     "metadata": {},
     "output_type": "execute_result"
    }
   ],
   "source": [
    "x = np.array([1,5,2,9,3])\n",
    "\n",
    "arg_max = np.argmax(x)\n",
    "print('Arg Max is: ', arg_max)\n",
    "\n",
    "arg_min = np.argmin(x)\n",
    "print('Arg Min is : ', arg_min)\n",
    "\n",
    "flattenn = x.flatten()\n",
    "flattenn"
   ]
  },
  {
   "cell_type": "markdown",
   "id": "76146b2d",
   "metadata": {},
   "source": [
    "### flatten"
   ]
  },
  {
   "cell_type": "code",
   "execution_count": 14,
   "id": "b2245004",
   "metadata": {},
   "outputs": [
    {
     "name": "stdout",
     "output_type": "stream",
     "text": [
      "[[1 9 3]\n",
      " [9 1 6]]\n",
      "Flatten is:  [1 9 3 9 1 6]\n"
     ]
    }
   ],
   "source": [
    "a = np.array([[1,9,3,], [9,1,6]])\n",
    "print(a)\n",
    "print('Flatten is: ', a.flatten())\n",
    "\n"
   ]
  },
  {
   "cell_type": "code",
   "execution_count": null,
   "id": "4e04a26a",
   "metadata": {},
   "outputs": [],
   "source": []
  },
  {
   "cell_type": "markdown",
   "id": "2a0a0de5",
   "metadata": {},
   "source": [
    "### numpy.nonzero\n",
    "Returns the indices of non zero elements in input arrray"
   ]
  },
  {
   "cell_type": "code",
   "execution_count": 15,
   "id": "3f511aa5",
   "metadata": {},
   "outputs": [
    {
     "name": "stdout",
     "output_type": "stream",
     "text": [
      "[[30 40  0]\n",
      " [ 0 20 10]\n",
      " [50  0 60]]\n",
      "Applying non zero functions: \n",
      "(array([0, 0, 1, 1, 2, 2], dtype=int64), array([0, 1, 1, 2, 0, 2], dtype=int64))\n"
     ]
    }
   ],
   "source": [
    "a = np.array([[30,40,0],[0,20,10],[50,0,60]])\n",
    "print(a)\n",
    "\n",
    "print('Applying non zero functions: ')\n",
    "print(np.nonzero(a))"
   ]
  },
  {
   "cell_type": "code",
   "execution_count": 16,
   "id": "baa5f09b",
   "metadata": {},
   "outputs": [
    {
     "name": "stdout",
     "output_type": "stream",
     "text": [
      "(array([0, 1, 3], dtype=int64),)\n"
     ]
    }
   ],
   "source": [
    "x = np.array([1,5,0,9,0])\n",
    "\n",
    "print(np.nonzero(x))"
   ]
  },
  {
   "cell_type": "markdown",
   "id": "80518ce2",
   "metadata": {},
   "source": [
    "### numpy.where\n",
    "returns the indices of elements in an input array when given condition is satisfied"
   ]
  },
  {
   "cell_type": "code",
   "execution_count": 20,
   "id": "84987bfc",
   "metadata": {},
   "outputs": [
    {
     "name": "stdout",
     "output_type": "stream",
     "text": [
      "[[0 1 2]\n",
      " [3 4 5]\n",
      " [6 7 8]]\n",
      "(array([1, 1, 2, 2, 2], dtype=int64), array([1, 2, 0, 1, 2], dtype=int64))\n",
      "\n",
      "\n",
      "Actual number in array is:  [4 5 6 7 8]\n"
     ]
    }
   ],
   "source": [
    "x = np.arange(9).reshape(3,3)\n",
    "print(x)\n",
    "\n",
    "y = np.where(x > 3)\n",
    "print(y)\n",
    "print('\\n')\n",
    "\n",
    "print('Actual number in array is: ', x[y])"
   ]
  },
  {
   "cell_type": "markdown",
   "id": "05771b8c",
   "metadata": {},
   "source": [
    "### np.extract\n",
    "returns the elements if it satisfies conditions <br>\n",
    "<b> Example: </b>"
   ]
  },
  {
   "cell_type": "code",
   "execution_count": 36,
   "id": "77439cde",
   "metadata": {},
   "outputs": [
    {
     "name": "stdout",
     "output_type": "stream",
     "text": [
      "Original array is:\n",
      "  [[0. 1. 2.]\n",
      " [3. 4. 5.]\n",
      " [6. 7. 8.]]\n",
      "\n",
      "\n",
      "Condition is: \n",
      " [[ True False  True]\n",
      " [False  True False]\n",
      " [ True False  True]]\n",
      "\n",
      "\n",
      "applying extract function:  [0. 2. 4. 6. 8.]\n"
     ]
    }
   ],
   "source": [
    "x = np.arange(9.).reshape(3, 3) \n",
    "print('Original array is:\\n ', x)\n",
    "\n",
    "print('\\n')\n",
    "condition = np.mod(x,2) == 0 \n",
    "print('Condition is: \\n', condition)\n",
    "print('\\n')\n",
    "\n",
    "print('applying extract function: ', np.extract(condition,x))"
   ]
  },
  {
   "cell_type": "markdown",
   "id": "278a43e7",
   "metadata": {},
   "source": [
    "### doing same things with np.where"
   ]
  },
  {
   "cell_type": "code",
   "execution_count": 29,
   "id": "5a87bd17",
   "metadata": {},
   "outputs": [
    {
     "name": "stdout",
     "output_type": "stream",
     "text": [
      "(array([0, 0, 1, 2, 2], dtype=int64), array([0, 2, 1, 0, 2], dtype=int64))\n",
      "Actual element:  [0. 2. 4. 6. 8.]\n"
     ]
    }
   ],
   "source": [
    "y = np.where(np.mod(x,2) == 0)\n",
    "print(y)\n",
    "\n",
    "print('Actual element: ', x[y])"
   ]
  },
  {
   "cell_type": "code",
   "execution_count": null,
   "id": "e2e3a391",
   "metadata": {},
   "outputs": [],
   "source": []
  },
  {
   "cell_type": "markdown",
   "id": "f181c0d8",
   "metadata": {},
   "source": [
    "### View  and copy\n",
    "\n",
    "First View (If we slice and change the slicing elements value then it will change in original array)\n"
   ]
  },
  {
   "cell_type": "code",
   "execution_count": 39,
   "id": "c4ee0d93",
   "metadata": {},
   "outputs": [
    {
     "name": "stdout",
     "output_type": "stream",
     "text": [
      "[40 50 60]\n",
      "[10 20 30  0  0  0]\n"
     ]
    }
   ],
   "source": [
    "a = np.array([10,20,30,40,50,60])\n",
    "slicing = a[3:6]\n",
    "print(slicing)\n",
    "\n",
    "slicing[:] = 0\n",
    "print(a)"
   ]
  },
  {
   "cell_type": "markdown",
   "id": "83b5efcb",
   "metadata": {},
   "source": [
    "Copy (Same concet but using copy) <br>\n",
    "<b> Example: </b>"
   ]
  },
  {
   "cell_type": "code",
   "execution_count": 41,
   "id": "daa6b030",
   "metadata": {},
   "outputs": [
    {
     "name": "stdout",
     "output_type": "stream",
     "text": [
      "[40 50 60]\n",
      "[10 20 30 40 50 60]\n"
     ]
    }
   ],
   "source": [
    "a = np.array([10,20,30,40,50,60])\n",
    "slicing = a[3:6].copy()\n",
    "print(slicing)\n",
    "\n",
    "slicing[:] = 0\n",
    "print(a)"
   ]
  },
  {
   "cell_type": "code",
   "execution_count": null,
   "id": "3f34fc6b",
   "metadata": {},
   "outputs": [],
   "source": []
  },
  {
   "cell_type": "markdown",
   "id": "e0444f8c",
   "metadata": {},
   "source": [
    "### Numpy Matrix Library\n",
    "matlib.empty() function returns matrices instead of ndarray objects"
   ]
  },
  {
   "cell_type": "markdown",
   "id": "8449bb22",
   "metadata": {},
   "source": [
    "#### matlib.empty()\n",
    "returns a new matrix without initializing the entries. <br>\n",
    "numpy.matlib(size,dtype,order) =====> int or tuple of int defining the shape of new matrix"
   ]
  },
  {
   "cell_type": "code",
   "execution_count": 43,
   "id": "b9aead1d",
   "metadata": {},
   "outputs": [],
   "source": [
    "import numpy as np\n",
    "import numpy.matlib\n"
   ]
  },
  {
   "cell_type": "code",
   "execution_count": 43,
   "id": "53166995",
   "metadata": {},
   "outputs": [
    {
     "data": {
      "text/plain": [
       "matrix([[2., 4.],\n",
       "        [6., 8.]])"
      ]
     },
     "execution_count": 43,
     "metadata": {},
     "output_type": "execute_result"
    }
   ],
   "source": [
    "a = np.matlib.empty((2,2))\n",
    "a"
   ]
  },
  {
   "cell_type": "markdown",
   "id": "dbb6c55c",
   "metadata": {},
   "source": [
    "#### numpy.matlib.ones()\n",
    "returns matrix filled with ones"
   ]
  },
  {
   "cell_type": "code",
   "execution_count": 44,
   "id": "ff986edc",
   "metadata": {},
   "outputs": [
    {
     "data": {
      "text/plain": [
       "matrix([[1., 1.],\n",
       "        [1., 1.]])"
      ]
     },
     "execution_count": 44,
     "metadata": {},
     "output_type": "execute_result"
    }
   ],
   "source": [
    "a = np.matlib.ones((2,2))\n",
    "a"
   ]
  },
  {
   "cell_type": "markdown",
   "id": "8706cb39",
   "metadata": {},
   "source": [
    "#### numpy.matlib.eye()\n",
    "np.matlib.eye(n,M,k,dtype) ======> n=row, M=column, k=index of diagonal, dtype=datatype\n"
   ]
  },
  {
   "cell_type": "code",
   "execution_count": 47,
   "id": "831f136f",
   "metadata": {},
   "outputs": [
    {
     "data": {
      "text/plain": [
       "matrix([[1., 0., 0.],\n",
       "        [0., 1., 0.],\n",
       "        [0., 0., 1.]])"
      ]
     },
     "execution_count": 47,
     "metadata": {},
     "output_type": "execute_result"
    }
   ],
   "source": [
    "n = np.matlib.eye(n=3)\n",
    "n"
   ]
  },
  {
   "cell_type": "code",
   "execution_count": 44,
   "id": "b31e7dde",
   "metadata": {},
   "outputs": [
    {
     "data": {
      "text/plain": [
       "matrix([[0., 0., 1., 0.],\n",
       "        [0., 0., 0., 1.],\n",
       "        [0., 0., 0., 0.]])"
      ]
     },
     "execution_count": 44,
     "metadata": {},
     "output_type": "execute_result"
    }
   ],
   "source": [
    "n = np.matlib.eye(n=3, M=4, k=2, dtype=float) #k=index where 1 stands from\n",
    "n"
   ]
  },
  {
   "cell_type": "markdown",
   "id": "623d15b9",
   "metadata": {},
   "source": [
    "#### numpy.matlib.identy()\n",
    "returns the identity matrix of the given size (An identity matrix is the square matrix with all the diagonal element as 1)"
   ]
  },
  {
   "cell_type": "code",
   "execution_count": 53,
   "id": "0ce84301",
   "metadata": {},
   "outputs": [
    {
     "data": {
      "text/plain": [
       "matrix([[1., 0., 0., 0., 0.],\n",
       "        [0., 1., 0., 0., 0.],\n",
       "        [0., 0., 1., 0., 0.],\n",
       "        [0., 0., 0., 1., 0.],\n",
       "        [0., 0., 0., 0., 1.]])"
      ]
     },
     "execution_count": 53,
     "metadata": {},
     "output_type": "execute_result"
    }
   ],
   "source": [
    "i = np.matlib.identity(5,dtype=float)\n",
    "i"
   ]
  },
  {
   "cell_type": "markdown",
   "id": "5346d538",
   "metadata": {},
   "source": [
    "#### numpy.matlib.rand()\n",
    "returns the random numbers of the given size"
   ]
  },
  {
   "cell_type": "code",
   "execution_count": 55,
   "id": "6e87d98e",
   "metadata": {},
   "outputs": [
    {
     "data": {
      "text/plain": [
       "matrix([[0.90044053, 0.39943359],\n",
       "        [0.97504194, 0.30800989],\n",
       "        [0.05871411, 0.13918482]])"
      ]
     },
     "execution_count": 55,
     "metadata": {},
     "output_type": "execute_result"
    }
   ],
   "source": [
    "b = np.matlib.rand(3,2)\n",
    "b"
   ]
  },
  {
   "cell_type": "markdown",
   "id": "f9223912",
   "metadata": {},
   "source": [
    "### From above we can analyze that matrix is always two dimensional whereas ndarray is an n-dimensional array\n",
    "Other example below:"
   ]
  },
  {
   "cell_type": "code",
   "execution_count": 59,
   "id": "42e9230f",
   "metadata": {},
   "outputs": [
    {
     "data": {
      "text/plain": [
       "matrix([[1, 2, 3],\n",
       "        [1, 2, 4]])"
      ]
     },
     "execution_count": 59,
     "metadata": {},
     "output_type": "execute_result"
    }
   ],
   "source": [
    "i = np.matrix('1,2,3;1,2,4')\n",
    "i"
   ]
  },
  {
   "cell_type": "code",
   "execution_count": 58,
   "id": "709d6d50",
   "metadata": {},
   "outputs": [
    {
     "data": {
      "text/plain": [
       "matrix([[1, 2],\n",
       "        [3, 4]])"
      ]
     },
     "execution_count": 58,
     "metadata": {},
     "output_type": "execute_result"
    }
   ],
   "source": [
    "i = np.matrix('1,2;3,4') \n",
    "i"
   ]
  },
  {
   "cell_type": "markdown",
   "id": "38db653d",
   "metadata": {},
   "source": [
    "#### asarray\n",
    "we can see np.matrix produces the two dimensional arrayy"
   ]
  },
  {
   "cell_type": "code",
   "execution_count": 62,
   "id": "39ef9a2b",
   "metadata": {},
   "outputs": [
    {
     "name": "stdout",
     "output_type": "stream",
     "text": [
      "[1 2 3 4]\n",
      "\n",
      "\n"
     ]
    },
    {
     "data": {
      "text/plain": [
       "matrix([[1, 2, 3, 4]])"
      ]
     },
     "execution_count": 62,
     "metadata": {},
     "output_type": "execute_result"
    }
   ],
   "source": [
    "a = [1,2,3,4]\n",
    "i = np.asarray(a)\n",
    "print(i)\n",
    "\n",
    "print('\\n')\n",
    "\n",
    "m = np.matrix(a)\n",
    "m"
   ]
  },
  {
   "cell_type": "code",
   "execution_count": null,
   "id": "87416570",
   "metadata": {},
   "outputs": [],
   "source": []
  },
  {
   "cell_type": "code",
   "execution_count": null,
   "id": "1e63c29c",
   "metadata": {},
   "outputs": [],
   "source": []
  },
  {
   "cell_type": "markdown",
   "id": "31e0936e",
   "metadata": {},
   "source": [
    "### Matplotlib, Numpy"
   ]
  },
  {
   "cell_type": "code",
   "execution_count": 3,
   "id": "0581448a",
   "metadata": {},
   "outputs": [],
   "source": [
    "import numpy as np\n",
    "from matplotlib import pyplot as plt"
   ]
  },
  {
   "cell_type": "code",
   "execution_count": 12,
   "id": "353c5fcd",
   "metadata": {},
   "outputs": [
    {
     "name": "stdout",
     "output_type": "stream",
     "text": [
      "[ 1  2  3  4  5  6  7  8  9 10]\n"
     ]
    },
    {
     "data": {
      "text/plain": [
       "array([ 7,  9, 11, 13, 15, 17, 19, 21, 23, 25])"
      ]
     },
     "execution_count": 12,
     "metadata": {},
     "output_type": "execute_result"
    }
   ],
   "source": [
    "x = np.arange(1,11)\n",
    "print(x)\n",
    "y = 2 * x + 5\n",
    "y"
   ]
  },
  {
   "cell_type": "code",
   "execution_count": 11,
   "id": "fb5d9a06",
   "metadata": {},
   "outputs": [
    {
     "data": {
      "image/png": "[encoded data removed]",
      "text/plain": [
       "<Figure size 432x288 with 1 Axes>"
      ]
     },
     "metadata": {
      "needs_background": "light"
     },
     "output_type": "display_data"
    }
   ],
   "source": [
    "plt.title(\"Demo\")\n",
    "plt.xlabel(\"X axis\")\n",
    "plt.ylabel(\"Y axis\")\n",
    "plt.plot(x,y,'v') ## '_', ':', '.', 'o', '>', '1..3', , '+' etc can be used\n",
    "plt.show()"
   ]
  },
  {
   "cell_type": "code",
   "execution_count": 13,
   "id": "619c78b9",
   "metadata": {},
   "outputs": [
    {
     "data": {
      "image/png": "[encoded data removed]",
      "text/plain": [
       "<Figure size 432x288 with 1 Axes>"
      ]
     },
     "metadata": {
      "needs_background": "light"
     },
     "output_type": "display_data"
    }
   ],
   "source": [
    "x = np.arange(1,11)\n",
    "y = 2*x + 5\n",
    "\n",
    "plt.title(\"Matplotlib\")\n",
    "plt.xlabel(\"X -axis\")\n",
    "plt.ylabel(\"Y -axis\")\n",
    "plt.plot(x,y,\"ob\")\n",
    "plt.show()"
   ]
  },
  {
   "cell_type": "markdown",
   "id": "7e9e8904",
   "metadata": {},
   "source": [
    "#### Sin wave plot"
   ]
  },
  {
   "cell_type": "code",
   "execution_count": 15,
   "id": "e93f06c4",
   "metadata": {},
   "outputs": [
    {
     "data": {
      "text/plain": [
       "3.141592653589793"
      ]
     },
     "execution_count": 15,
     "metadata": {},
     "output_type": "execute_result"
    }
   ],
   "source": [
    "np.arange(1,5,2)\n",
    "x = np.pi\n",
    "x"
   ]
  },
  {
   "cell_type": "code",
   "execution_count": 18,
   "id": "47294e52",
   "metadata": {},
   "outputs": [
    {
     "data": {
      "image/png": "[encoded data removed]",
      "text/plain": [
       "<Figure size 432x288 with 1 Axes>"
      ]
     },
     "metadata": {
      "needs_background": "light"
     },
     "output_type": "display_data"
    }
   ],
   "source": [
    "x = np.arange(0,3* np.pi,0.1)\n",
    "y = np.sin(x)\n",
    "\n",
    "plt.title(\"Sin wave\")\n",
    "\n",
    "plt.plot(x,y)\n",
    "plt.show()"
   ]
  },
  {
   "cell_type": "code",
   "execution_count": null,
   "id": "54a4a7a6",
   "metadata": {},
   "outputs": [],
   "source": []
  },
  {
   "cell_type": "code",
   "execution_count": 24,
   "id": "fca27ecb",
   "metadata": {},
   "outputs": [
    {
     "data": {
      "image/png": "[encoded data removed]",
      "text/plain": [
       "<Figure size 432x288 with 2 Axes>"
      ]
     },
     "metadata": {
      "needs_background": "light"
     },
     "output_type": "display_data"
    }
   ],
   "source": [
    "x = np.arange(0,3* np.pi,0.1)\n",
    "y_sin = np.sin(x)\n",
    "y_cos = np.cos(x)\n",
    "\n",
    "## Setting first sub plot as active at last 1\n",
    "plt.subplot(2,1,1)\n",
    "\n",
    "plt.plot(x,y_sin)\n",
    "plt.title('Sine')\n",
    "\n",
    "## Setting second plot as active\n",
    "plt.subplot(2,1,2)\n",
    "plt.plot(x,y_cos)\n",
    "plt.title('Cos')\n",
    "\n",
    "plt.show()"
   ]
  },
  {
   "cell_type": "markdown",
   "id": "c403e8cc",
   "metadata": {},
   "source": [
    "### bar()"
   ]
  },
  {
   "cell_type": "code",
   "execution_count": 25,
   "id": "01e5ab44",
   "metadata": {},
   "outputs": [
    {
     "data": {
      "image/png": "[encoded data removed]",
      "text/plain": [
       "<Figure size 432x288 with 1 Axes>"
      ]
     },
     "metadata": {
      "needs_background": "light"
     },
     "output_type": "display_data"
    }
   ],
   "source": [
    "x = [5,8,10,12]\n",
    "y = [12,16,6,35]\n",
    "\n",
    "x2 = [6,9,11,9] \n",
    "y2 = [6,15,7, 30]\n",
    "\n",
    "plt.bar(x, y, align='center')\n",
    "plt.bar(x2, y2, align='center', color= 'g')\n",
    "\n",
    "plt.title('Bar Graphs')\n",
    "plt.ylabel('Y -axis')\n",
    "plt.xlabel('X axis')\n",
    "\n",
    "plt.show()\n"
   ]
  },
  {
   "cell_type": "markdown",
   "id": "b2d70035",
   "metadata": {},
   "source": [
    "#### Histogram"
   ]
  },
  {
   "cell_type": "code",
   "execution_count": 33,
   "id": "2ef6eda5",
   "metadata": {},
   "outputs": [
    {
     "data": {
      "image/png": "[encoded data removed]",
      "text/plain": [
       "<Figure size 432x288 with 1 Axes>"
      ]
     },
     "metadata": {
      "needs_background": "light"
     },
     "output_type": "display_data"
    }
   ],
   "source": [
    "a = np.array([22,87,5,43,56,73,55,54,11,20,51,5,79,31,27]) \n",
    "plt.hist(a, bins=[0,20,40,60,80,100])\n",
    "\n",
    "plt.title('Histogram')\n",
    "plt.show()"
   ]
  },
  {
   "cell_type": "code",
   "execution_count": null,
   "id": "e8446873",
   "metadata": {},
   "outputs": [],
   "source": []
  },
  {
   "cell_type": "markdown",
   "id": "007adeae",
   "metadata": {},
   "source": [
    "### I/O with numpy\n",
    "Saving numpy/binary file in disk"
   ]
  },
  {
   "cell_type": "code",
   "execution_count": 38,
   "id": "e523dbb5",
   "metadata": {},
   "outputs": [],
   "source": [
    "a = np.array([1,2,3,4,5])\n",
    "np.save('numpyfile', a) ## allow picke = TRue (serialize and desearilize objects before saving to or reading from disk file)"
   ]
  },
  {
   "cell_type": "markdown",
   "id": "9fa8be91",
   "metadata": {},
   "source": [
    "#### TO load numpy file"
   ]
  },
  {
   "cell_type": "code",
   "execution_count": 37,
   "id": "7e0035ac",
   "metadata": {},
   "outputs": [
    {
     "data": {
      "text/plain": [
       "array([1, 2, 3, 4, 5])"
      ]
     },
     "execution_count": 37,
     "metadata": {},
     "output_type": "execute_result"
    }
   ],
   "source": [
    "b = np.load('numpyfile.npy')\n",
    "b"
   ]
  },
  {
   "cell_type": "markdown",
   "id": "61f73271",
   "metadata": {},
   "source": [
    "### Saving array data in txt file"
   ]
  },
  {
   "cell_type": "code",
   "execution_count": 39,
   "id": "b6537ff7",
   "metadata": {},
   "outputs": [],
   "source": [
    "a = np.array([1,2,3,4,5])\n",
    "np.savetxt('newnew.txt', a)"
   ]
  },
  {
   "cell_type": "markdown",
   "id": "071ddcf0",
   "metadata": {},
   "source": [
    "#### Loading"
   ]
  },
  {
   "cell_type": "code",
   "execution_count": 41,
   "id": "53c13889",
   "metadata": {},
   "outputs": [
    {
     "data": {
      "text/plain": [
       "array([1., 2., 3., 4., 5.])"
      ]
     },
     "execution_count": 41,
     "metadata": {},
     "output_type": "execute_result"
    }
   ],
   "source": [
    "b = np.loadtxt('newnew.txt')\n",
    "b"
   ]
  },
  {
   "cell_type": "code",
   "execution_count": null,
   "id": "609e0377",
   "metadata": {},
   "outputs": [],
   "source": []
  }
 ],
 "metadata": {
  "kernelspec": {
   "display_name": "Python 3 (ipykernel)",
   "language": "python",
   "name": "python3"
  },
  "language_info": {
   "codemirror_mode": {
    "name": "ipython",
    "version": 3
   },
   "file_extension": ".py",
   "mimetype": "text/x-python",
   "name": "python",
   "nbconvert_exporter": "python",
   "pygments_lexer": "ipython3",
   "version": "3.9.7"
  }
 },
 "nbformat": 4,
 "nbformat_minor": 5
}
