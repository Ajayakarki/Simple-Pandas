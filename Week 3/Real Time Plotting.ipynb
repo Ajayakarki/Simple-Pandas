{
 "cells": [
  {
   "cell_type": "code",
   "execution_count": 1,
   "id": "f4308e02",
   "metadata": {},
   "outputs": [],
   "source": [
    "import csv\n",
    "import random\n",
    "import time\n",
    "import pandas as pd"
   ]
  },
  {
   "cell_type": "code",
   "execution_count": 10,
   "id": "61557147",
   "metadata": {},
   "outputs": [
    {
     "name": "stdout",
     "output_type": "stream",
     "text": [
      "0 1000 1000\n",
      "1 1007 995\n",
      "2 1011 993\n",
      "3 1017 988\n",
      "4 1015 983\n",
      "5 1012 982\n",
      "6 1011 984\n",
      "7 1019 986\n",
      "8 1018 983\n",
      "9 1022 986\n",
      "10 1030 984\n",
      "11 1037 988\n",
      "12 1037 988\n",
      "13 1039 985\n",
      "14 1046 990\n",
      "15 1043 985\n"
     ]
    },
    {
     "ename": "KeyboardInterrupt",
     "evalue": "",
     "output_type": "error",
     "traceback": [
      "\u001b[1;31m---------------------------------------------------------------------------\u001b[0m",
      "\u001b[1;31mKeyboardInterrupt\u001b[0m                         Traceback (most recent call last)",
      "\u001b[1;32m~\\AppData\\Local\\Temp/ipykernel_11184/1345345419.py\u001b[0m in \u001b[0;36m<module>\u001b[1;34m\u001b[0m\n\u001b[0;32m     27\u001b[0m         \u001b[0mtotal_2\u001b[0m \u001b[1;33m=\u001b[0m \u001b[0mtotal_2\u001b[0m \u001b[1;33m+\u001b[0m \u001b[0mrandom\u001b[0m\u001b[1;33m.\u001b[0m\u001b[0mrandint\u001b[0m\u001b[1;33m(\u001b[0m\u001b[1;33m-\u001b[0m\u001b[1;36m5\u001b[0m\u001b[1;33m,\u001b[0m\u001b[1;36m6\u001b[0m\u001b[1;33m)\u001b[0m\u001b[1;33m\u001b[0m\u001b[1;33m\u001b[0m\u001b[0m\n\u001b[0;32m     28\u001b[0m \u001b[1;33m\u001b[0m\u001b[0m\n\u001b[1;32m---> 29\u001b[1;33m     \u001b[0mtime\u001b[0m\u001b[1;33m.\u001b[0m\u001b[0msleep\u001b[0m\u001b[1;33m(\u001b[0m\u001b[1;36m1\u001b[0m\u001b[1;33m)\u001b[0m\u001b[1;33m\u001b[0m\u001b[1;33m\u001b[0m\u001b[0m\n\u001b[0m",
      "\u001b[1;31mKeyboardInterrupt\u001b[0m: "
     ]
    }
   ],
   "source": [
    "x_value = 0\n",
    "total_1 = 1000\n",
    "total_2 = 1000\n",
    "\n",
    "field_names = [\"x_value\", \"total_1\", \"total_2\"]\n",
    "\n",
    "with open('data.csv', 'w') as csv_file:\n",
    "    csv_writer = csv.DictWriter(csv_file, fieldnames=field_names )\n",
    "    csv_writer.writeheader()\n",
    "    \n",
    "while True:\n",
    "    with open('data.csv', 'a') as csv_file:\n",
    "        csv_writer = csv.DictWriter(csv_file, fieldnames=field_names)\n",
    "        \n",
    "        info = {\n",
    "            \"x_value\": x_value,\n",
    "            \"total_1\": total_1,\n",
    "            \"total_2\": total_2\n",
    "        }\n",
    "        \n",
    "        csv_writer.writerow(info)\n",
    "        \n",
    "        print(x_value,total_1,total_2)\n",
    "        \n",
    "        x_value += 1\n",
    "        total_1 = total_1 + random.randint(-6,8)\n",
    "        total_2 = total_2 + random.randint(-5,6)\n",
    "    \n",
    "    time.sleep(1)"
   ]
  },
  {
   "cell_type": "code",
   "execution_count": null,
   "id": "eeaa0415",
   "metadata": {},
   "outputs": [],
   "source": []
  }
 ],
 "metadata": {
  "kernelspec": {
   "display_name": "Python 3 (ipykernel)",
   "language": "python",
   "name": "python3"
  },
  "language_info": {
   "codemirror_mode": {
    "name": "ipython",
    "version": 3
   },
   "file_extension": ".py",
   "mimetype": "text/x-python",
   "name": "python",
   "nbconvert_exporter": "python",
   "pygments_lexer": "ipython3",
   "version": "3.9.7"
  }
 },
 "nbformat": 4,
 "nbformat_minor": 5
}
